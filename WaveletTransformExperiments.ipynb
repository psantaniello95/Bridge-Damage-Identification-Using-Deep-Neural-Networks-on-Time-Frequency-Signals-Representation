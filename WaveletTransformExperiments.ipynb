{
  "nbformat": 4,
  "nbformat_minor": 0,
  "metadata": {
    "colab": {
      "provenance": [],
      "machine_shape": "hm",
      "gpuClass": "premium",
      "authorship_tag": "ABX9TyO5cKhOp/v+2belgcMC2+U/",
      "include_colab_link": true
    },
    "kernelspec": {
      "name": "python3",
      "display_name": "Python 3"
    },
    "language_info": {
      "name": "python"
    },
    "accelerator": "GPU",
    "gpuClass": "premium"
  },
  "cells": [
    {
      "cell_type": "markdown",
      "metadata": {
        "id": "view-in-github",
        "colab_type": "text"
      },
      "source": [
        "<a href=\"https://colab.research.google.com/github/psantaniello95/Bridge-Damage-Identification-Using-Deep-Neural-Networks-on-Time-Frequency-Signals-Representation/blob/main/WaveletTransformExperiments.ipynb\" target=\"_parent\"><img src=\"https://colab.research.google.com/assets/colab-badge.svg\" alt=\"Open In Colab\"/></a>"
      ]
    },
    {
      "cell_type": "code",
      "execution_count": null,
      "metadata": {
        "colab": {
          "base_uri": "https://localhost:8080/"
        },
        "id": "d7iiYBEatwKD",
        "outputId": "868d1dd7-a842-451f-ea84-ba6d3dd4b277"
      },
      "outputs": [
        {
          "output_type": "stream",
          "name": "stdout",
          "text": [
            "Mounted at /content/drive\n"
          ]
        }
      ],
      "source": [
        "#mount the google drive\n",
        "from google.colab import drive\n",
        "drive.mount('/content/drive')"
      ]
    },
    {
      "cell_type": "code",
      "source": [
        "#import libraries\n",
        "import scipy\n",
        "import scipy.io\n",
        "import numpy as np\n",
        "import tensorflow as tf\n",
        "from sklearn import datasets\n",
        "from sklearn.model_selection import train_test_split, cross_val_score, ShuffleSplit, GridSearchCV\n",
        "from sklearn import svm\n",
        "from sklearn.naive_bayes import GaussianNB\n",
        "from sklearn.linear_model import LogisticRegression\n",
        "from sklearn.metrics import classification_report, confusion_matrix\n",
        "from sklearn.utils.multiclass import unique_labels\n",
        "import matplotlib.pyplot as plt\n",
        "import random\n",
        "import keras\n",
        "import dask.array as da\n",
        "import numpy as np\n",
        "import matplotlib.pyplot as plt\n",
        "#from ssqueezepy import ssq_cwt, ssq_stft, visuals\n",
        "import cv2 as cv\n",
        "from keras.utils import to_categorical"
      ],
      "metadata": {
        "id": "qYc0Fs60t43T"
      },
      "execution_count": null,
      "outputs": []
    },
    {
      "cell_type": "markdown",
      "source": [
        "We define numpy ones arrays instead of using the original time-series since we are not allowed to share the data from the original Dataset, and we just need to loop over the first dimension of such arrays(number of time series for each setup) in order to retrieve the correct number of generated images. For requesting the original Dataset please refer to https://bwk.kuleuven.be/bwm/z24"
      ],
      "metadata": {
        "id": "ZunVHz9CGJpt"
      }
    },
    {
      "cell_type": "code",
      "source": [
        "x1 = np.ones((33, 65536))\n",
        "x2 = np.ones((33, 65536))\n",
        "x3 = np.ones((33, 65536))\n",
        "x4 = np.ones((33, 65536))\n",
        "x5 = np.ones((27, 65536))\n",
        "x6 = np.ones((33, 65536))\n",
        "x7 = np.ones((33, 65536))\n",
        "x8 = np.ones((33, 65536))\n",
        "x9 = np.ones((33, 65536))"
      ],
      "metadata": {
        "id": "GE6GANwUD1OR"
      },
      "execution_count": null,
      "outputs": []
    },
    {
      "cell_type": "code",
      "source": [
        "#import the image Dataset divided as:\n",
        "#First class: no damage : 9 setup : each array has been normalized between 0 and 1 before conversion to an image\n",
        "#to get the non-normalized images just remove n form the image name x1n->x1\n",
        "x_1=[]\n",
        "for i in range(x1.shape[0]):\n",
        " img = cv.imread('/content/drive/My Drive/Master-Thesis-BridgeDamageDetection/Transformed_Data/x1/x1n'+str(i)+'.png')\n",
        " x_1.append(img)\n",
        "x_1=np.array(x_1)\n",
        "print(x_1.shape)\n",
        "x_2=[]\n",
        "for i in range(x2.shape[0]):\n",
        " img = cv.imread('/content/drive/My Drive/Master-Thesis-BridgeDamageDetection/Transformed_Data/x2/x2n'+str(i)+'.png')\n",
        " x_2.append(img)\n",
        "x_2=np.array(x_2)\n",
        "print(x_2.shape)\n",
        "x_3=[]\n",
        "for i in range(x3.shape[0]):\n",
        " img = cv.imread('/content/drive/My Drive/Master-Thesis-BridgeDamageDetection/Transformed_Data/x3/x3n'+str(i)+'.png')\n",
        " x_3.append(img)\n",
        "x_3=np.array(x_3)\n",
        "print(x_3.shape)\n",
        "x_4=[]\n",
        "for i in range(x4.shape[0]):\n",
        " img = cv.imread('/content/drive/My Drive/Master-Thesis-BridgeDamageDetection/Transformed_Data/x4/x4n'+str(i)+'.png')\n",
        " x_4.append(img)\n",
        "x_4=np.array(x_4)\n",
        "print(x_4.shape)\n",
        "x_5=[]\n",
        "for i in range(x5.shape[0]):\n",
        " img = cv.imread('/content/drive/My Drive/Master-Thesis-BridgeDamageDetection/Transformed_Data/x5/x5n'+str(i)+'.png')\n",
        " x_5.append(img)\n",
        "x_5=np.array(x_5)\n",
        "print(x_5.shape)\n",
        "x_6=[]\n",
        "for i in range(x6.shape[0]):\n",
        " img = cv.imread('/content/drive/My Drive/Master-Thesis-BridgeDamageDetection/Transformed_Data/x6/x6n'+str(i)+'.png')\n",
        " x_6.append(img)\n",
        "x_6=np.array(x_6)\n",
        "print(x_6.shape)\n",
        "x_7=[]\n",
        "for i in range(x7.shape[0]):\n",
        " img = cv.imread('/content/drive/My Drive/Master-Thesis-BridgeDamageDetection/Transformed_Data/x7/x7n'+str(i)+'.png')\n",
        " x_7.append(img)\n",
        "x_7=np.array(x_7)\n",
        "print(x_7.shape)\n",
        "x_8=[]\n",
        "for i in range(x8.shape[0]):\n",
        " img = cv.imread('/content/drive/My Drive/Master-Thesis-BridgeDamageDetection/Transformed_Data/x8/x8n'+str(i)+'.png')\n",
        " x_8.append(img)\n",
        "x_8=np.array(x_8)\n",
        "print(x_8.shape)\n",
        "x_9=[]\n",
        "for i in range(x9.shape[0]):\n",
        " img = cv.imread('/content/drive/My Drive/Master-Thesis-BridgeDamageDetection/Transformed_Data/x9/x9n'+str(i)+'.png')\n",
        " x_9.append(img)\n",
        "x_9=np.array(x_9)\n",
        "print(x_9.shape)"
      ],
      "metadata": {
        "id": "AvpvUdqYuFeB",
        "colab": {
          "base_uri": "https://localhost:8080/"
        },
        "outputId": "0d49b4f3-3198-439c-e8f7-4e62ead55f3f"
      },
      "execution_count": null,
      "outputs": [
        {
          "output_type": "stream",
          "name": "stdout",
          "text": [
            "(33, 288, 432, 3)\n",
            "(33, 288, 432, 3)\n",
            "(33, 288, 432, 3)\n",
            "(33, 288, 432, 3)\n",
            "(27, 288, 432, 3)\n",
            "(33, 288, 432, 3)\n",
            "(33, 288, 432, 3)\n",
            "(33, 288, 432, 3)\n",
            "(33, 288, 432, 3)\n"
          ]
        }
      ]
    },
    {
      "cell_type": "code",
      "source": [
        "#create the first set of the Dataset composed by the samples labeled as class 0\n",
        "x=tf.concat((x_1,x_2,x_3,x_4,x_5,x_6,x_7,x_8,x_9),axis=0)\n",
        "print(x.shape)"
      ],
      "metadata": {
        "colab": {
          "base_uri": "https://localhost:8080/"
        },
        "id": "DYUqbL1UvpBJ",
        "outputId": "c39c8705-e7cd-4513-a517-685996352362"
      },
      "execution_count": null,
      "outputs": [
        {
          "output_type": "stream",
          "name": "stdout",
          "text": [
            "(291, 288, 432, 3)\n"
          ]
        }
      ]
    },
    {
      "cell_type": "code",
      "source": [
        "#create the corresponding labels set in order to create the Dataset\n",
        "#create labels for the 0 class:\n",
        "y1=np.empty(x.shape[0])\n",
        "for i in range(0,x.shape[0]):\n",
        "  y1[i]=0\n",
        "print(y1.shape)"
      ],
      "metadata": {
        "colab": {
          "base_uri": "https://localhost:8080/"
        },
        "id": "Kd782lnkv4v-",
        "outputId": "4dcda615-9c44-4d4b-d3e2-1780a2e88595"
      },
      "execution_count": null,
      "outputs": [
        {
          "output_type": "stream",
          "name": "stdout",
          "text": [
            "(291,)\n"
          ]
        }
      ]
    },
    {
      "cell_type": "code",
      "source": [
        "z2 = np.ones((33, 65536))\n",
        "z3 = np.ones((33, 65536))\n",
        "z4 = np.ones((33, 65536))\n",
        "z5 = np.ones((27, 65536))\n",
        "z6 = np.ones((33, 65536))\n",
        "z7 = np.ones((33, 65536))\n",
        "z8 = np.ones((33, 65536))\n",
        "z9 = np.ones((33, 65536))"
      ],
      "metadata": {
        "id": "eOQ23jn9FPzU"
      },
      "execution_count": null,
      "outputs": []
    },
    {
      "cell_type": "code",
      "source": [
        "#import the image Dataset divided as:\n",
        "#Second class: 20 mm Settlement : 8 setup : each array has been normalized between 0 and 1 before conversion to an image\n",
        "z_2=[]\n",
        "for i in range(z2.shape[0]):\n",
        " img = cv.imread('/content/drive/My Drive/Master-Thesis-BridgeDamageDetection/Transformed_Data/z2/z2n'+str(i)+'.png')\n",
        " z_2.append(img)\n",
        "z_2=np.array(z_2)\n",
        "print(z_2.shape)\n",
        "z_3=[]\n",
        "for i in range(z3.shape[0]):\n",
        " img = cv.imread('/content/drive/My Drive/Master-Thesis-BridgeDamageDetection/Transformed_Data/z3/z3n'+str(i)+'.png')\n",
        " z_3.append(img)\n",
        "z_3=np.array(z_3)\n",
        "print(z_3.shape)\n",
        "z_4=[]\n",
        "for i in range(z4.shape[0]):\n",
        " img = cv.imread('/content/drive/My Drive/Master-Thesis-BridgeDamageDetection/Transformed_Data/z4/z4n'+str(i)+'.png')\n",
        " z_4.append(img)\n",
        "z_4=np.array(z_4)\n",
        "print(z_4.shape)\n",
        "z_5=[]\n",
        "for i in range(z5.shape[0]):\n",
        " img = cv.imread('/content/drive/My Drive/Master-Thesis-BridgeDamageDetection/Transformed_Data/z5/z5n'+str(i)+'.png')\n",
        " z_5.append(img)\n",
        "z_5=np.array(z_5)\n",
        "print(z_5.shape)\n",
        "z_6=[]\n",
        "for i in range(z6.shape[0]):\n",
        " img = cv.imread('/content/drive/My Drive/Master-Thesis-BridgeDamageDetection/Transformed_Data/z6/z6n'+str(i)+'.png')\n",
        " z_6.append(img)\n",
        "z_6=np.array(z_6)\n",
        "print(z_6.shape)\n",
        "z_7=[]\n",
        "for i in range(z7.shape[0]):\n",
        " img = cv.imread('/content/drive/My Drive/Master-Thesis-BridgeDamageDetection/Transformed_Data/z7/z7n'+str(i)+'.png')\n",
        " z_7.append(img)\n",
        "z_7=np.array(z_7)\n",
        "print(z_7.shape)\n",
        "z_8=[]\n",
        "for i in range(z8.shape[0]):\n",
        " img = cv.imread('/content/drive/My Drive/Master-Thesis-BridgeDamageDetection/Transformed_Data/z8/z8n'+str(i)+'.png')\n",
        " z_8.append(img)\n",
        "z_8=np.array(z_8)\n",
        "print(z_8.shape)\n",
        "z_9=[]\n",
        "for i in range(z9.shape[0]):\n",
        " img = cv.imread('/content/drive/My Drive/Master-Thesis-BridgeDamageDetection/Transformed_Data/z9/z9n'+str(i)+'.png')\n",
        " z_9.append(img)\n",
        "z_9=np.array(z_9)\n",
        "print(z_9.shape)"
      ],
      "metadata": {
        "colab": {
          "base_uri": "https://localhost:8080/"
        },
        "id": "Wtxf6fvUv96p",
        "outputId": "3f77a678-6402-4696-a386-b8cfd6750c1f"
      },
      "execution_count": null,
      "outputs": [
        {
          "output_type": "stream",
          "name": "stdout",
          "text": [
            "(33, 288, 432, 3)\n",
            "(33, 288, 432, 3)\n",
            "(33, 288, 432, 3)\n",
            "(27, 288, 432, 3)\n",
            "(33, 288, 432, 3)\n",
            "(33, 288, 432, 3)\n",
            "(33, 288, 432, 3)\n",
            "(33, 288, 432, 3)\n"
          ]
        }
      ]
    },
    {
      "cell_type": "code",
      "source": [
        "#create the second set of the Dataset composed by the samples labeled as class 1\n",
        "z=tf.concat((z_2,z_3,z_4,z_5,z_6,z_7,z_8,z_9),axis=0)\n",
        "print(z.shape)"
      ],
      "metadata": {
        "colab": {
          "base_uri": "https://localhost:8080/"
        },
        "id": "E_tQFgApwbEA",
        "outputId": "93039b17-d568-4d2e-99b6-e4d3f55a177a"
      },
      "execution_count": null,
      "outputs": [
        {
          "output_type": "stream",
          "name": "stdout",
          "text": [
            "(258, 288, 432, 3)\n"
          ]
        }
      ]
    },
    {
      "cell_type": "code",
      "source": [
        "#create labels for the 1 class:\n",
        "y2=np.empty(z.shape[0])\n",
        "for i in range(0,z.shape[0]):\n",
        "  y2[i]=1\n",
        "print(y2.shape)"
      ],
      "metadata": {
        "colab": {
          "base_uri": "https://localhost:8080/"
        },
        "id": "E6SAcNC4wgfL",
        "outputId": "db803da7-4a88-4a1a-926f-31762456b9f3"
      },
      "execution_count": null,
      "outputs": [
        {
          "output_type": "stream",
          "name": "stdout",
          "text": [
            "(258,)\n"
          ]
        }
      ]
    },
    {
      "cell_type": "code",
      "source": [
        "v1 = np.ones((33, 65536))\n",
        "v2 = np.ones((33, 65536))\n",
        "v3 = np.ones((33, 65536))\n",
        "v4 = np.ones((33, 65536))\n",
        "v5 = np.ones((27, 65536))\n",
        "v6 = np.ones((33, 65536))\n",
        "v7 = np.ones((33, 65536))\n",
        "v8 = np.ones((33, 65536))\n",
        "v9 = np.ones((33, 65536))"
      ],
      "metadata": {
        "id": "4LxtZfVVFkZ4"
      },
      "execution_count": null,
      "outputs": []
    },
    {
      "cell_type": "code",
      "source": [
        "#import the image Dataset divided as:\n",
        "#Third class: 40 mm Settlement : 9 setup : each array has been normalized between 0 and 1 before conversion to an image\n",
        "v_1=[]\n",
        "for i in range(v1.shape[0]):\n",
        " img = cv.imread('/content/drive/My Drive/Master-Thesis-BridgeDamageDetection/Transformed_Data/v1/v1n'+str(i)+'.png')\n",
        " v_1.append(img)\n",
        "v_1=np.array(v_1)\n",
        "print(v_1.shape)\n",
        "v_2=[]\n",
        "for i in range(v2.shape[0]):\n",
        " img = cv.imread('/content/drive/My Drive/Master-Thesis-BridgeDamageDetection/Transformed_Data/v2/v2n'+str(i)+'.png')\n",
        " v_2.append(img)\n",
        "v_2=np.array(v_2)\n",
        "print(v_2.shape)\n",
        "v_3=[]\n",
        "for i in range(v3.shape[0]):\n",
        " img = cv.imread('/content/drive/My Drive/Master-Thesis-BridgeDamageDetection/Transformed_Data/v3/v3n'+str(i)+'.png')\n",
        " v_3.append(img)\n",
        "v_3=np.array(v_3)\n",
        "print(v_3.shape)\n",
        "v_4=[]\n",
        "for i in range(v4.shape[0]):\n",
        " img = cv.imread('/content/drive/My Drive/Master-Thesis-BridgeDamageDetection/Transformed_Data/v4/v4n'+str(i)+'.png')\n",
        " v_4.append(img)\n",
        "v_4=np.array(v_4)\n",
        "print(v_4.shape)\n",
        "v_5=[]\n",
        "for i in range(v5.shape[0]):\n",
        " img = cv.imread('/content/drive/My Drive/Master-Thesis-BridgeDamageDetection/Transformed_Data/v5/v5n'+str(i)+'.png')\n",
        " v_5.append(img)\n",
        "v_5=np.array(v_5)\n",
        "print(v_5.shape)\n",
        "v_6=[]\n",
        "for i in range(v6.shape[0]):\n",
        " img = cv.imread('/content/drive/My Drive/Master-Thesis-BridgeDamageDetection/Transformed_Data/v6/v6n'+str(i)+'.png')\n",
        " v_6.append(img)\n",
        "v_6=np.array(v_6)\n",
        "print(v_6.shape)\n",
        "v_7=[]\n",
        "for i in range(v7.shape[0]):\n",
        " img = cv.imread('/content/drive/My Drive/Master-Thesis-BridgeDamageDetection/Transformed_Data/v7/v7n'+str(i)+'.png')\n",
        " v_7.append(img)\n",
        "v_7=np.array(v_7)\n",
        "print(v_7.shape)\n",
        "v_8=[]\n",
        "for i in range(v8.shape[0]):\n",
        " img = cv.imread('/content/drive/My Drive/Master-Thesis-BridgeDamageDetection/Transformed_Data/v8/v8n'+str(i)+'.png')\n",
        " v_8.append(img)\n",
        "v_8=np.array(v_8)\n",
        "print(v_8.shape)\n",
        "v_9=[]\n",
        "for i in range(v9.shape[0]):\n",
        " img = cv.imread('/content/drive/My Drive/Master-Thesis-BridgeDamageDetection/Transformed_Data/v9/v9n'+str(i)+'.png')\n",
        " v_9.append(img)\n",
        "v_9=np.array(v_9)\n",
        "print(v_9.shape)"
      ],
      "metadata": {
        "colab": {
          "base_uri": "https://localhost:8080/"
        },
        "id": "cp_RhL8kwjKQ",
        "outputId": "14f00ae3-bc2c-45b5-94ab-44f141b69f80"
      },
      "execution_count": null,
      "outputs": [
        {
          "output_type": "stream",
          "name": "stdout",
          "text": [
            "(33, 288, 432, 3)\n",
            "(33, 288, 432, 3)\n",
            "(33, 288, 432, 3)\n",
            "(33, 288, 432, 3)\n",
            "(27, 288, 432, 3)\n",
            "(33, 288, 432, 3)\n",
            "(33, 288, 432, 3)\n",
            "(33, 288, 432, 3)\n",
            "(33, 288, 432, 3)\n"
          ]
        }
      ]
    },
    {
      "cell_type": "code",
      "source": [
        "#create the second set of the Dataset composed by the samples labeled as class 2\n",
        "v=tf.concat((v_1,v_2,v_3,v_4,v_5,v_6,v_7,v_8,v_9),axis=0)\n",
        "print(v.shape)"
      ],
      "metadata": {
        "colab": {
          "base_uri": "https://localhost:8080/"
        },
        "id": "4T0jIummw0rV",
        "outputId": "bbaa7567-15db-461b-f3b0-df22857680fb"
      },
      "execution_count": null,
      "outputs": [
        {
          "output_type": "stream",
          "name": "stdout",
          "text": [
            "(291, 288, 432, 3)\n"
          ]
        }
      ]
    },
    {
      "cell_type": "code",
      "source": [
        "#create labels for the 2 class:\n",
        "y3=np.empty(v.shape[0])\n",
        "for i in range(0,v.shape[0]):\n",
        "  y3[i]=2\n",
        "print(y3.shape)"
      ],
      "metadata": {
        "colab": {
          "base_uri": "https://localhost:8080/"
        },
        "id": "PsWqOFiTw7R6",
        "outputId": "73baea40-41f7-4de4-fdec-ac26c14b0280"
      },
      "execution_count": null,
      "outputs": [
        {
          "output_type": "stream",
          "name": "stdout",
          "text": [
            "(291,)\n"
          ]
        }
      ]
    },
    {
      "cell_type": "code",
      "source": [
        "s1 = np.ones((33, 65536))\n",
        "s2 = np.ones((33, 65536))\n",
        "s3 = np.ones((33, 65536))\n",
        "s4 = np.ones((33, 65536))\n",
        "s5 = np.ones((27, 65536))\n",
        "s6 = np.ones((33, 65536))\n",
        "s7 = np.ones((33, 65536))\n",
        "s8 = np.ones((33, 65536))\n",
        "s9 = np.ones((33, 65536))"
      ],
      "metadata": {
        "id": "k7-PFfGkF0mM"
      },
      "execution_count": null,
      "outputs": []
    },
    {
      "cell_type": "code",
      "source": [
        "#import the image Dataset divided as:\n",
        "#Fourth class: 80 mm Settlement : 9 setup : each array has been normalized between 0 and 1 before conversion to an image\n",
        "s_1=[]\n",
        "for i in range(s1.shape[0]):\n",
        " img = cv.imread('/content/drive/My Drive/Master-Thesis-BridgeDamageDetection/Transformed_Data/s1/s1n'+str(i)+'.png')\n",
        " s_1.append(img)\n",
        "s_1=np.array(s_1)\n",
        "print(s_1.shape)\n",
        "s_2=[]\n",
        "for i in range(s2.shape[0]):\n",
        " img = cv.imread('/content/drive/My Drive/Master-Thesis-BridgeDamageDetection/Transformed_Data/s2/s2n'+str(i)+'.png')\n",
        " s_2.append(img)\n",
        "s_2=np.array(s_2)\n",
        "print(s_2.shape)\n",
        "s_3=[]\n",
        "for i in range(s3.shape[0]):\n",
        " img = cv.imread('/content/drive/My Drive/Master-Thesis-BridgeDamageDetection/Transformed_Data/s3/s3n'+str(i)+'.png')\n",
        " s_3.append(img)\n",
        "s_3=np.array(s_3)\n",
        "print(s_3.shape)\n",
        "s_4=[]\n",
        "for i in range(s4.shape[0]):\n",
        " img = cv.imread('/content/drive/My Drive/Master-Thesis-BridgeDamageDetection/Transformed_Data/s4/s4n'+str(i)+'.png')\n",
        " s_4.append(img)\n",
        "s_4=np.array(s_4)\n",
        "print(s_4.shape)\n",
        "s_5=[]\n",
        "for i in range(s5.shape[0]):\n",
        " img = cv.imread('/content/drive/My Drive/Master-Thesis-BridgeDamageDetection/Transformed_Data/s5/s5n'+str(i)+'.png')\n",
        " s_5.append(img)\n",
        "s_5=np.array(s_5)\n",
        "print(s_5.shape)\n",
        "s_6=[]\n",
        "for i in range(s6.shape[0]):\n",
        " img = cv.imread('/content/drive/My Drive/Master-Thesis-BridgeDamageDetection/Transformed_Data/s6/s6n'+str(i)+'.png')\n",
        " s_6.append(img)\n",
        "s_6=np.array(s_6)\n",
        "print(s_6.shape)\n",
        "s_7=[]\n",
        "for i in range(s7.shape[0]):\n",
        " img = cv.imread('/content/drive/My Drive/Master-Thesis-BridgeDamageDetection/Transformed_Data/s7/s7n'+str(i)+'.png')\n",
        " s_7.append(img)\n",
        "s_7=np.array(s_7)\n",
        "print(s_7.shape)\n",
        "s_8=[]\n",
        "for i in range(s8.shape[0]):\n",
        " img = cv.imread('/content/drive/My Drive/Master-Thesis-BridgeDamageDetection/Transformed_Data/s8/s8n'+str(i)+'.png')\n",
        " s_8.append(img)\n",
        "s_8=np.array(s_8)\n",
        "print(s_8.shape)\n",
        "s_9=[]\n",
        "for i in range(s9.shape[0]):\n",
        " img = cv.imread('/content/drive/My Drive/Master-Thesis-BridgeDamageDetection/Transformed_Data/s9/s9n'+str(i)+'.png')\n",
        " s_9.append(img)\n",
        "s_9=np.array(s_9)\n",
        "print(s_9.shape)"
      ],
      "metadata": {
        "colab": {
          "base_uri": "https://localhost:8080/"
        },
        "id": "mC4aQou6w9YE",
        "outputId": "1cbe994b-f418-4e07-948b-5a218d3d771b"
      },
      "execution_count": null,
      "outputs": [
        {
          "output_type": "stream",
          "name": "stdout",
          "text": [
            "(33, 288, 432, 3)\n",
            "(33, 288, 432, 3)\n",
            "(33, 288, 432, 3)\n",
            "(33, 288, 432, 3)\n",
            "(27, 288, 432, 3)\n",
            "(33, 288, 432, 3)\n",
            "(33, 288, 432, 3)\n",
            "(33, 288, 432, 3)\n",
            "(33, 288, 432, 3)\n"
          ]
        }
      ]
    },
    {
      "cell_type": "code",
      "source": [
        "#create the second set of the Dataset composed by the samples labeled as class 3\n",
        "s=tf.concat((s_1,s_2,s_3,s_4,s_5,s_6,s_7,s_8,s_9),axis=0)\n",
        "print(s.shape)"
      ],
      "metadata": {
        "colab": {
          "base_uri": "https://localhost:8080/"
        },
        "id": "sxQwyW88xM_7",
        "outputId": "23fe0703-aea2-4535-a503-a9f3fed60f24"
      },
      "execution_count": null,
      "outputs": [
        {
          "output_type": "stream",
          "name": "stdout",
          "text": [
            "(291, 288, 432, 3)\n"
          ]
        }
      ]
    },
    {
      "cell_type": "code",
      "source": [
        "#create labels for the 3 class:\n",
        "y4=np.empty(s.shape[0])\n",
        "for i in range(0,s.shape[0]):\n",
        "  y4[i]=3\n",
        "print(y4.shape)"
      ],
      "metadata": {
        "colab": {
          "base_uri": "https://localhost:8080/"
        },
        "id": "oTv8zf0TxSZw",
        "outputId": "b341583a-a982-4e54-8f10-94a9da1ee7db"
      },
      "execution_count": null,
      "outputs": [
        {
          "output_type": "stream",
          "name": "stdout",
          "text": [
            "(291,)\n"
          ]
        }
      ]
    },
    {
      "cell_type": "code",
      "source": [
        "d1 = np.ones((33, 65536))\n",
        "d2 = np.ones((33, 65536))\n",
        "d3 = np.ones((33, 65536))\n",
        "d4 = np.ones((33, 65536))\n",
        "d5 = np.ones((27, 65536))\n",
        "d6 = np.ones((33, 65536))\n",
        "d7 = np.ones((33, 65536))\n",
        "d8 = np.ones((33, 65536))\n",
        "d9 = np.ones((33, 65536))"
      ],
      "metadata": {
        "id": "7WZ8vxHOF-mt"
      },
      "execution_count": null,
      "outputs": []
    },
    {
      "cell_type": "code",
      "source": [
        "#import the image Dataset divided as:\n",
        "#Fourth class: 95 mm Settlement : 9 setup : each array has been normalized between 0 and 1 before conversion to an image\n",
        "d_1=[]\n",
        "for i in range(d1.shape[0]):\n",
        " img = cv.imread('/content/drive/My Drive/Master-Thesis-BridgeDamageDetection/Transformed_Data/d1/d1n'+str(i)+'.png')\n",
        " d_1.append(img)\n",
        "d_1=np.array(d_1)\n",
        "print(d_1.shape)\n",
        "d_2=[]\n",
        "for i in range(d2.shape[0]):\n",
        " img = cv.imread('/content/drive/My Drive/Master-Thesis-BridgeDamageDetection/Transformed_Data/d2/d2n'+str(i)+'.png')\n",
        " d_2.append(img)\n",
        "d_2=np.array(d_2)\n",
        "print(d_2.shape)\n",
        "d_3=[]\n",
        "for i in range(d3.shape[0]):\n",
        " img = cv.imread('/content/drive/My Drive/Master-Thesis-BridgeDamageDetection/Transformed_Data/d3/d3n'+str(i)+'.png')\n",
        " d_3.append(img)\n",
        "d_3=np.array(d_3)\n",
        "print(d_3.shape)\n",
        "d_4=[]\n",
        "for i in range(d4.shape[0]):\n",
        " img = cv.imread('/content/drive/My Drive/Master-Thesis-BridgeDamageDetection/Transformed_Data/d4/d4n'+str(i)+'.png')\n",
        " d_4.append(img)\n",
        "d_4=np.array(d_4)\n",
        "print(d_4.shape)\n",
        "d_5=[]\n",
        "for i in range(d5.shape[0]):\n",
        " img = cv.imread('/content/drive/My Drive/Master-Thesis-BridgeDamageDetection/Transformed_Data/d5/d5n'+str(i)+'.png')\n",
        " d_5.append(img)\n",
        "d_5=np.array(d_5)\n",
        "print(d_5.shape)\n",
        "d_6=[]\n",
        "for i in range(d6.shape[0]):\n",
        " img = cv.imread('/content/drive/My Drive/Master-Thesis-BridgeDamageDetection/Transformed_Data/d6/d6n'+str(i)+'.png')\n",
        " d_6.append(img)\n",
        "d_6=np.array(d_6)\n",
        "print(d_6.shape)\n",
        "d_7=[]\n",
        "for i in range(d7.shape[0]):\n",
        " img = cv.imread('/content/drive/My Drive/Master-Thesis-BridgeDamageDetection/Transformed_Data/d7/d7n'+str(i)+'.png')\n",
        " d_7.append(img)\n",
        "d_7=np.array(d_7)\n",
        "print(d_7.shape)\n",
        "d_8=[]\n",
        "for i in range(d8.shape[0]):\n",
        " img = cv.imread('/content/drive/My Drive/Master-Thesis-BridgeDamageDetection/Transformed_Data/d8/d8n'+str(i)+'.png')\n",
        " d_8.append(img)\n",
        "d_8=np.array(d_8)\n",
        "print(d_8.shape)\n",
        "d_9=[]\n",
        "for i in range(d9.shape[0]):\n",
        " img = cv.imread('/content/drive/My Drive/Master-Thesis-BridgeDamageDetection/Transformed_Data/d9/d9n'+str(i)+'.png')\n",
        " d_9.append(img)\n",
        "d_9=np.array(d_9)\n",
        "print(d_9.shape)"
      ],
      "metadata": {
        "colab": {
          "base_uri": "https://localhost:8080/"
        },
        "id": "0TytU8pmxUrH",
        "outputId": "70bc27fb-5f8d-4568-e436-e4e3134b0429"
      },
      "execution_count": null,
      "outputs": [
        {
          "output_type": "stream",
          "name": "stdout",
          "text": [
            "(33, 288, 432, 3)\n",
            "(33, 288, 432, 3)\n",
            "(33, 288, 432, 3)\n",
            "(33, 288, 432, 3)\n",
            "(27, 288, 432, 3)\n",
            "(33, 288, 432, 3)\n",
            "(33, 288, 432, 3)\n",
            "(33, 288, 432, 3)\n",
            "(33, 288, 432, 3)\n"
          ]
        }
      ]
    },
    {
      "cell_type": "code",
      "source": [
        "#create the second set of the Dataset composed by the samples labeled as class 4\n",
        "d=tf.concat((d_1,d_2,d_3,d_4,d_5,d_6,d_7,d_8,d_9),axis=0)\n",
        "print(d.shape)"
      ],
      "metadata": {
        "colab": {
          "base_uri": "https://localhost:8080/"
        },
        "id": "03EAoBIfxjOS",
        "outputId": "f492a205-67c0-4d28-b5a8-70132ed9fd77"
      },
      "execution_count": null,
      "outputs": [
        {
          "output_type": "stream",
          "name": "stdout",
          "text": [
            "(291, 288, 432, 3)\n"
          ]
        }
      ]
    },
    {
      "cell_type": "code",
      "source": [
        "#create labels for the 4 class:\n",
        "y5=np.empty(d.shape[0])\n",
        "for i in range(0,d.shape[0]):\n",
        "  y5[i]=4\n",
        "print(y5.shape)"
      ],
      "metadata": {
        "colab": {
          "base_uri": "https://localhost:8080/"
        },
        "id": "xU4Chu6lxoGT",
        "outputId": "15af9ec7-f388-49ba-a46b-dffb1c1e0a2b"
      },
      "execution_count": null,
      "outputs": [
        {
          "output_type": "stream",
          "name": "stdout",
          "text": [
            "(291,)\n"
          ]
        }
      ]
    },
    {
      "cell_type": "code",
      "source": [
        "#create the full Labeled Dataset\n",
        "x_data=tf.concat((x,z,v,s,d),axis=0)\n",
        "y_data=tf.concat((y1,y2,y3,y4,y5),axis=0)\n",
        "x_data=np.array(x_data)\n",
        "y_data=np.array(y_data)"
      ],
      "metadata": {
        "id": "P_ySM_C_xtTs"
      },
      "execution_count": null,
      "outputs": []
    },
    {
      "cell_type": "code",
      "source": [
        "#look at the shape of the full dataset\n",
        "print(x_data.shape)\n",
        "print(y_data.shape)"
      ],
      "metadata": {
        "colab": {
          "base_uri": "https://localhost:8080/"
        },
        "id": "yYKztywDxtVk",
        "outputId": "5720993c-c030-41c1-8c11-45322070f7a6"
      },
      "execution_count": null,
      "outputs": [
        {
          "output_type": "stream",
          "name": "stdout",
          "text": [
            "(1422, 288, 432, 3)\n",
            "(1422,)\n"
          ]
        }
      ]
    },
    {
      "cell_type": "code",
      "source": [
        "#divide the Dataset into train and test set\n",
        "X_train, X_test, y_train, y_test = train_test_split(x_data, y_data, test_size=0.333,random_state=14)"
      ],
      "metadata": {
        "id": "fVy6oXU90aQk"
      },
      "execution_count": null,
      "outputs": []
    },
    {
      "cell_type": "code",
      "source": [
        "#Normalize data and change the type\n",
        "X_train = X_train / 255.\n",
        "X_test = X_test / 255.\n",
        "#X_train = X_train.astype('float32')\n",
        "#X_test = X_test.astype('float32')\n",
        "#X_train.shape, X_test.shape"
      ],
      "metadata": {
        "id": "EmwdcLmGpcb7"
      },
      "execution_count": null,
      "outputs": []
    },
    {
      "cell_type": "code",
      "source": [
        "print(y_train)"
      ],
      "metadata": {
        "colab": {
          "base_uri": "https://localhost:8080/"
        },
        "id": "7d110mKSo0lk",
        "outputId": "fb57503d-91c6-4322-c5b3-bfc57bc5abec"
      },
      "execution_count": null,
      "outputs": [
        {
          "output_type": "stream",
          "name": "stdout",
          "text": [
            "[3. 4. 4. 4. 0. 4. 0. 3. 4. 2. 4. 3. 2. 3. 4. 2. 1. 0. 1. 0. 0. 4. 4. 1.\n",
            " 2. 0. 1. 2. 2. 4. 0. 4. 1. 4. 0. 3. 4. 3. 4. 0. 4. 4. 2. 2. 4. 4. 2. 3.\n",
            " 3. 1. 4. 0. 1. 2. 2. 3. 4. 0. 0. 4. 3. 2. 4. 0. 3. 2. 1. 1. 2. 4. 1. 2.\n",
            " 4. 2. 3. 4. 0. 4. 3. 4. 3. 0. 1. 1. 1. 2. 2. 4. 2. 4. 3. 3. 1. 1. 3. 2.\n",
            " 0. 3. 4. 0. 4. 0. 1. 2. 1. 3. 0. 3. 3. 4. 3. 0. 1. 3. 1. 4. 4. 1. 4. 4.\n",
            " 4. 0. 2. 4. 3. 4. 0. 1. 1. 0. 3. 0. 1. 2. 1. 0. 2. 2. 0. 1. 4. 0. 4. 0.\n",
            " 1. 4. 0. 1. 3. 3. 3. 2. 4. 0. 2. 3. 3. 0. 4. 3. 0. 0. 2. 4. 3. 2. 2. 0.\n",
            " 4. 4. 4. 1. 0. 3. 4. 0. 4. 3. 3. 3. 1. 3. 3. 2. 0. 3. 3. 3. 3. 4. 2. 3.\n",
            " 4. 0. 4. 0. 1. 3. 2. 0. 3. 0. 4. 2. 0. 2. 3. 2. 1. 4. 0. 1. 0. 0. 1. 0.\n",
            " 0. 0. 3. 0. 4. 3. 4. 4. 4. 2. 1. 1. 2. 4. 1. 3. 3. 2. 4. 3. 1. 2. 0. 2.\n",
            " 2. 1. 3. 2. 2. 1. 2. 0. 1. 4. 3. 2. 3. 4. 1. 3. 2. 1. 4. 1. 1. 1. 1. 1.\n",
            " 3. 0. 0. 2. 3. 0. 3. 2. 3. 1. 0. 3. 3. 1. 0. 0. 1. 1. 4. 2. 4. 0. 0. 2.\n",
            " 4. 4. 1. 2. 2. 2. 2. 2. 0. 3. 1. 0. 4. 0. 0. 0. 0. 2. 3. 1. 1. 1. 3. 0.\n",
            " 3. 3. 0. 2. 1. 4. 4. 3. 3. 2. 0. 0. 4. 4. 0. 2. 3. 1. 2. 2. 3. 0. 0. 2.\n",
            " 3. 4. 2. 3. 4. 1. 3. 3. 0. 1. 4. 3. 3. 3. 0. 4. 0. 1. 4. 4. 4. 4. 3. 2.\n",
            " 2. 2. 3. 1. 4. 0. 0. 2. 1. 1. 1. 0. 3. 4. 0. 4. 2. 3. 2. 4. 2. 2. 2. 4.\n",
            " 0. 1. 0. 1. 4. 3. 2. 1. 0. 0. 0. 4. 3. 3. 3. 2. 4. 0. 3. 3. 0. 0. 2. 1.\n",
            " 2. 4. 1. 4. 0. 2. 0. 0. 4. 2. 1. 4. 0. 1. 4. 3. 0. 3. 0. 0. 0. 1. 3. 2.\n",
            " 1. 3. 4. 4. 2. 3. 3. 4. 4. 1. 3. 0. 1. 1. 4. 3. 1. 0. 1. 2. 4. 4. 1. 2.\n",
            " 4. 3. 4. 4. 3. 3. 2. 3. 2. 3. 1. 3. 0. 1. 0. 3. 3. 1. 0. 4. 2. 4. 0. 0.\n",
            " 1. 4. 0. 3. 2. 2. 0. 2. 3. 3. 2. 3. 4. 1. 4. 0. 1. 0. 0. 1. 4. 1. 3. 0.\n",
            " 2. 2. 4. 1. 0. 4. 2. 3. 2. 2. 2. 1. 1. 0. 3. 0. 0. 1. 4. 2. 0. 3. 0. 1.\n",
            " 2. 1. 3. 1. 3. 1. 0. 4. 3. 3. 0. 4. 0. 2. 2. 1. 4. 3. 4. 4. 4. 1. 2. 4.\n",
            " 1. 0. 1. 2. 3. 3. 4. 4. 1. 0. 3. 4. 1. 2. 2. 2. 2. 1. 2. 3. 4. 0. 4. 2.\n",
            " 0. 3. 3. 0. 1. 1. 4. 1. 0. 2. 4. 3. 3. 1. 4. 3. 2. 3. 4. 1. 2. 0. 4. 1.\n",
            " 4. 0. 1. 0. 0. 4. 1. 2. 3. 4. 4. 2. 2. 3. 4. 3. 4. 3. 1. 0. 1. 1. 4. 3.\n",
            " 0. 2. 4. 3. 2. 3. 3. 3. 3. 2. 4. 3. 2. 2. 1. 3. 0. 0. 1. 2. 1. 4. 0. 1.\n",
            " 0. 1. 4. 2. 4. 2. 4. 4. 0. 2. 4. 0. 1. 2. 0. 3. 0. 1. 4. 1. 3. 4. 3. 0.\n",
            " 2. 0. 3. 0. 0. 0. 1. 0. 2. 4. 1. 4. 3. 3. 1. 1. 2. 0. 1. 2. 3. 4. 1. 0.\n",
            " 3. 0. 2. 2. 0. 3. 2. 1. 1. 2. 2. 3. 1. 3. 2. 2. 1. 3. 2. 1. 3. 1. 0. 1.\n",
            " 0. 1. 2. 4. 4. 2. 3. 0. 2. 3. 4. 1. 4. 0. 3. 0. 1. 1. 3. 1. 0. 1. 2. 4.\n",
            " 3. 1. 4. 2. 1. 0. 4. 4. 4. 2. 2. 0. 4. 0. 0. 4. 0. 2. 2. 4. 3. 0. 0. 3.\n",
            " 1. 1. 4. 2. 0. 2. 3. 2. 1. 2. 1. 4. 0. 0. 4. 0. 1. 1. 3. 0. 0. 3. 3. 3.\n",
            " 2. 1. 2. 2. 4. 0. 0. 2. 0. 2. 0. 1. 1. 1. 0. 2. 3. 2. 0. 4. 2. 3. 1. 3.\n",
            " 0. 0. 1. 3. 2. 2. 2. 4. 3. 0. 3. 0. 3. 1. 4. 0. 0. 3. 0. 2. 1. 0. 0. 3.\n",
            " 0. 3. 2. 0. 2. 1. 2. 3. 4. 4. 0. 2. 4. 2. 3. 2. 0. 2. 1. 1. 4. 3. 3. 3.\n",
            " 4. 4. 3. 2. 3. 3. 4. 4. 4. 2. 1. 2. 1. 1. 3. 0. 3. 1. 0. 4. 2. 1. 0. 1.\n",
            " 1. 4. 2. 1. 1. 0. 1. 1. 4. 2. 4. 3. 2. 1. 1. 0. 2. 3. 3. 0. 0. 2. 0. 4.\n",
            " 0. 0. 3. 0. 4. 2. 4. 4. 4. 4. 3. 4. 2. 0. 0. 0. 0. 3. 1. 4. 0. 1. 1. 3.\n",
            " 1. 3. 2. 4. 2. 2. 4. 1. 1. 4. 4. 2.]\n"
          ]
        }
      ]
    },
    {
      "cell_type": "code",
      "source": [
        "print(X_train.shape)\n",
        "print(X_test.shape)\n",
        "print(y_train.shape)\n",
        "print(y_test.shape)"
      ],
      "metadata": {
        "colab": {
          "base_uri": "https://localhost:8080/"
        },
        "id": "5hp-LrOs0tI5",
        "outputId": "1ed0edfd-fef5-42d9-da2b-ec54db26fb15"
      },
      "execution_count": null,
      "outputs": [
        {
          "output_type": "stream",
          "name": "stdout",
          "text": [
            "(948, 288, 432, 3)\n",
            "(474, 288, 432, 3)\n",
            "(948,)\n",
            "(474,)\n"
          ]
        }
      ]
    },
    {
      "cell_type": "code",
      "source": [
        "#setup the transfer learning on the DenseNet121 model:\n",
        "#setup transfer learning, we setup the input shape of the resnet model as our images dimensions\n",
        "def DenseNet():\n",
        "  return tf.keras.applications.DenseNet121(include_top=False,input_shape=(288,432,3))#exclde fully connected layers"
      ],
      "metadata": {
        "id": "P_VbrOIlZEcg"
      },
      "execution_count": null,
      "outputs": []
    },
    {
      "cell_type": "code",
      "source": [
        "dense_net=DenseNet()"
      ],
      "metadata": {
        "id": "terBUIQFZNAX"
      },
      "execution_count": null,
      "outputs": []
    },
    {
      "cell_type": "code",
      "source": [
        "dense_net.summary()"
      ],
      "metadata": {
        "id": "Sy3S_BvAZO-_"
      },
      "execution_count": null,
      "outputs": []
    },
    {
      "cell_type": "code",
      "source": [
        "#get the features before the fully connected layer for classification\n",
        "train_features = dense_net.predict(np.array(X_train), batch_size=64, verbose=1)\n",
        "test_features = dense_net.predict(np.array(X_test), batch_size=64, verbose=1)"
      ],
      "metadata": {
        "id": "ebA0x3AxZQSV"
      },
      "execution_count": null,
      "outputs": []
    },
    {
      "cell_type": "code",
      "source": [
        "print(train_features.shape)"
      ],
      "metadata": {
        "id": "hwE9R_jNPL3i"
      },
      "execution_count": null,
      "outputs": []
    },
    {
      "cell_type": "code",
      "source": [
        "#get the dimensions of the features in order to setup the classifier(we need to compress them in one dimension)\n",
        "train_size=X_train.shape[0]\n",
        "test_size=X_test.shape[0]\n",
        "print(train_dim1)\n",
        "print(test_dim1)\n",
        "print(train_dim2)\n",
        "print(test_dim2)\n",
        "print(train_dim3)\n",
        "print(test_dim3)\n",
        "train_dim1 , train_dim2 , train_dim3 = train_features.shape[1], train_features.shape[2], train_features.shape[3]\n",
        "test_dim1 , test_dim2 , test_dim3 = test_features.shape[1], test_features.shape[2], test_features.shape[3]"
      ],
      "metadata": {
        "id": "84uafsxBZXNR"
      },
      "execution_count": null,
      "outputs": []
    },
    {
      "cell_type": "code",
      "source": [
        "#we flatten the features in order to give them to the fully connected classifier layer\n",
        "train_features_flat = np.reshape(train_features, (train_size, train_dim1*train_dim2*train_dim3))\n",
        "test_features_flat = np.reshape(test_features, (test_size, test_dim1*test_dim2*test_dim3))"
      ],
      "metadata": {
        "id": "FvtddmDsZbaX"
      },
      "execution_count": null,
      "outputs": []
    },
    {
      "cell_type": "markdown",
      "source": [
        "Transfer Learning on ResNet50 model\n",
        "\n",
        "Default weights : Imagenet"
      ],
      "metadata": {
        "id": "X0zP4h3b7lIX"
      }
    },
    {
      "cell_type": "code",
      "source": [
        "#setup the transfer learning on the ResNet50 model:\n",
        "#setup transfer learning, we setup the input shape of the resnet model as our images dimensions\n",
        "def ResNet50():\n",
        "  return tf.keras.applications.resnet50.ResNet50(include_top=False,input_shape=(288,432,3))#exclde fully connected layers"
      ],
      "metadata": {
        "id": "MOPs6Kcix2SA"
      },
      "execution_count": null,
      "outputs": []
    },
    {
      "cell_type": "code",
      "source": [
        "resnet=ResNet50()"
      ],
      "metadata": {
        "id": "YsfEJPXqx9ZI"
      },
      "execution_count": null,
      "outputs": []
    },
    {
      "cell_type": "code",
      "source": [
        "#print the summary of the model\n",
        "resnet.summary()"
      ],
      "metadata": {
        "colab": {
          "base_uri": "https://localhost:8080/"
        },
        "id": "yyI1KG_kx-5W",
        "outputId": "61fbf131-4b44-4505-f392-ac3967676b32"
      },
      "execution_count": null,
      "outputs": [
        {
          "output_type": "stream",
          "name": "stdout",
          "text": [
            "Model: \"resnet50\"\n",
            "__________________________________________________________________________________________________\n",
            " Layer (type)                   Output Shape         Param #     Connected to                     \n",
            "==================================================================================================\n",
            " input_12 (InputLayer)          [(None, 288, 432, 3  0           []                               \n",
            "                                )]                                                                \n",
            "                                                                                                  \n",
            " conv1_pad (ZeroPadding2D)      (None, 294, 438, 3)  0           ['input_12[0][0]']               \n",
            "                                                                                                  \n",
            " conv1_conv (Conv2D)            (None, 144, 216, 64  9472        ['conv1_pad[0][0]']              \n",
            "                                )                                                                 \n",
            "                                                                                                  \n",
            " conv1_bn (BatchNormalization)  (None, 144, 216, 64  256         ['conv1_conv[0][0]']             \n",
            "                                )                                                                 \n",
            "                                                                                                  \n",
            " conv1_relu (Activation)        (None, 144, 216, 64  0           ['conv1_bn[0][0]']               \n",
            "                                )                                                                 \n",
            "                                                                                                  \n",
            " pool1_pad (ZeroPadding2D)      (None, 146, 218, 64  0           ['conv1_relu[0][0]']             \n",
            "                                )                                                                 \n",
            "                                                                                                  \n",
            " pool1_pool (MaxPooling2D)      (None, 72, 108, 64)  0           ['pool1_pad[0][0]']              \n",
            "                                                                                                  \n",
            " conv2_block1_1_conv (Conv2D)   (None, 72, 108, 64)  4160        ['pool1_pool[0][0]']             \n",
            "                                                                                                  \n",
            " conv2_block1_1_bn (BatchNormal  (None, 72, 108, 64)  256        ['conv2_block1_1_conv[0][0]']    \n",
            " ization)                                                                                         \n",
            "                                                                                                  \n",
            " conv2_block1_1_relu (Activatio  (None, 72, 108, 64)  0          ['conv2_block1_1_bn[0][0]']      \n",
            " n)                                                                                               \n",
            "                                                                                                  \n",
            " conv2_block1_2_conv (Conv2D)   (None, 72, 108, 64)  36928       ['conv2_block1_1_relu[0][0]']    \n",
            "                                                                                                  \n",
            " conv2_block1_2_bn (BatchNormal  (None, 72, 108, 64)  256        ['conv2_block1_2_conv[0][0]']    \n",
            " ization)                                                                                         \n",
            "                                                                                                  \n",
            " conv2_block1_2_relu (Activatio  (None, 72, 108, 64)  0          ['conv2_block1_2_bn[0][0]']      \n",
            " n)                                                                                               \n",
            "                                                                                                  \n",
            " conv2_block1_0_conv (Conv2D)   (None, 72, 108, 256  16640       ['pool1_pool[0][0]']             \n",
            "                                )                                                                 \n",
            "                                                                                                  \n",
            " conv2_block1_3_conv (Conv2D)   (None, 72, 108, 256  16640       ['conv2_block1_2_relu[0][0]']    \n",
            "                                )                                                                 \n",
            "                                                                                                  \n",
            " conv2_block1_0_bn (BatchNormal  (None, 72, 108, 256  1024       ['conv2_block1_0_conv[0][0]']    \n",
            " ization)                       )                                                                 \n",
            "                                                                                                  \n",
            " conv2_block1_3_bn (BatchNormal  (None, 72, 108, 256  1024       ['conv2_block1_3_conv[0][0]']    \n",
            " ization)                       )                                                                 \n",
            "                                                                                                  \n",
            " conv2_block1_add (Add)         (None, 72, 108, 256  0           ['conv2_block1_0_bn[0][0]',      \n",
            "                                )                                 'conv2_block1_3_bn[0][0]']      \n",
            "                                                                                                  \n",
            " conv2_block1_out (Activation)  (None, 72, 108, 256  0           ['conv2_block1_add[0][0]']       \n",
            "                                )                                                                 \n",
            "                                                                                                  \n",
            " conv2_block2_1_conv (Conv2D)   (None, 72, 108, 64)  16448       ['conv2_block1_out[0][0]']       \n",
            "                                                                                                  \n",
            " conv2_block2_1_bn (BatchNormal  (None, 72, 108, 64)  256        ['conv2_block2_1_conv[0][0]']    \n",
            " ization)                                                                                         \n",
            "                                                                                                  \n",
            " conv2_block2_1_relu (Activatio  (None, 72, 108, 64)  0          ['conv2_block2_1_bn[0][0]']      \n",
            " n)                                                                                               \n",
            "                                                                                                  \n",
            " conv2_block2_2_conv (Conv2D)   (None, 72, 108, 64)  36928       ['conv2_block2_1_relu[0][0]']    \n",
            "                                                                                                  \n",
            " conv2_block2_2_bn (BatchNormal  (None, 72, 108, 64)  256        ['conv2_block2_2_conv[0][0]']    \n",
            " ization)                                                                                         \n",
            "                                                                                                  \n",
            " conv2_block2_2_relu (Activatio  (None, 72, 108, 64)  0          ['conv2_block2_2_bn[0][0]']      \n",
            " n)                                                                                               \n",
            "                                                                                                  \n",
            " conv2_block2_3_conv (Conv2D)   (None, 72, 108, 256  16640       ['conv2_block2_2_relu[0][0]']    \n",
            "                                )                                                                 \n",
            "                                                                                                  \n",
            " conv2_block2_3_bn (BatchNormal  (None, 72, 108, 256  1024       ['conv2_block2_3_conv[0][0]']    \n",
            " ization)                       )                                                                 \n",
            "                                                                                                  \n",
            " conv2_block2_add (Add)         (None, 72, 108, 256  0           ['conv2_block1_out[0][0]',       \n",
            "                                )                                 'conv2_block2_3_bn[0][0]']      \n",
            "                                                                                                  \n",
            " conv2_block2_out (Activation)  (None, 72, 108, 256  0           ['conv2_block2_add[0][0]']       \n",
            "                                )                                                                 \n",
            "                                                                                                  \n",
            " conv2_block3_1_conv (Conv2D)   (None, 72, 108, 64)  16448       ['conv2_block2_out[0][0]']       \n",
            "                                                                                                  \n",
            " conv2_block3_1_bn (BatchNormal  (None, 72, 108, 64)  256        ['conv2_block3_1_conv[0][0]']    \n",
            " ization)                                                                                         \n",
            "                                                                                                  \n",
            " conv2_block3_1_relu (Activatio  (None, 72, 108, 64)  0          ['conv2_block3_1_bn[0][0]']      \n",
            " n)                                                                                               \n",
            "                                                                                                  \n",
            " conv2_block3_2_conv (Conv2D)   (None, 72, 108, 64)  36928       ['conv2_block3_1_relu[0][0]']    \n",
            "                                                                                                  \n",
            " conv2_block3_2_bn (BatchNormal  (None, 72, 108, 64)  256        ['conv2_block3_2_conv[0][0]']    \n",
            " ization)                                                                                         \n",
            "                                                                                                  \n",
            " conv2_block3_2_relu (Activatio  (None, 72, 108, 64)  0          ['conv2_block3_2_bn[0][0]']      \n",
            " n)                                                                                               \n",
            "                                                                                                  \n",
            " conv2_block3_3_conv (Conv2D)   (None, 72, 108, 256  16640       ['conv2_block3_2_relu[0][0]']    \n",
            "                                )                                                                 \n",
            "                                                                                                  \n",
            " conv2_block3_3_bn (BatchNormal  (None, 72, 108, 256  1024       ['conv2_block3_3_conv[0][0]']    \n",
            " ization)                       )                                                                 \n",
            "                                                                                                  \n",
            " conv2_block3_add (Add)         (None, 72, 108, 256  0           ['conv2_block2_out[0][0]',       \n",
            "                                )                                 'conv2_block3_3_bn[0][0]']      \n",
            "                                                                                                  \n",
            " conv2_block3_out (Activation)  (None, 72, 108, 256  0           ['conv2_block3_add[0][0]']       \n",
            "                                )                                                                 \n",
            "                                                                                                  \n",
            " conv3_block1_1_conv (Conv2D)   (None, 36, 54, 128)  32896       ['conv2_block3_out[0][0]']       \n",
            "                                                                                                  \n",
            " conv3_block1_1_bn (BatchNormal  (None, 36, 54, 128)  512        ['conv3_block1_1_conv[0][0]']    \n",
            " ization)                                                                                         \n",
            "                                                                                                  \n",
            " conv3_block1_1_relu (Activatio  (None, 36, 54, 128)  0          ['conv3_block1_1_bn[0][0]']      \n",
            " n)                                                                                               \n",
            "                                                                                                  \n",
            " conv3_block1_2_conv (Conv2D)   (None, 36, 54, 128)  147584      ['conv3_block1_1_relu[0][0]']    \n",
            "                                                                                                  \n",
            " conv3_block1_2_bn (BatchNormal  (None, 36, 54, 128)  512        ['conv3_block1_2_conv[0][0]']    \n",
            " ization)                                                                                         \n",
            "                                                                                                  \n",
            " conv3_block1_2_relu (Activatio  (None, 36, 54, 128)  0          ['conv3_block1_2_bn[0][0]']      \n",
            " n)                                                                                               \n",
            "                                                                                                  \n",
            " conv3_block1_0_conv (Conv2D)   (None, 36, 54, 512)  131584      ['conv2_block3_out[0][0]']       \n",
            "                                                                                                  \n",
            " conv3_block1_3_conv (Conv2D)   (None, 36, 54, 512)  66048       ['conv3_block1_2_relu[0][0]']    \n",
            "                                                                                                  \n",
            " conv3_block1_0_bn (BatchNormal  (None, 36, 54, 512)  2048       ['conv3_block1_0_conv[0][0]']    \n",
            " ization)                                                                                         \n",
            "                                                                                                  \n",
            " conv3_block1_3_bn (BatchNormal  (None, 36, 54, 512)  2048       ['conv3_block1_3_conv[0][0]']    \n",
            " ization)                                                                                         \n",
            "                                                                                                  \n",
            " conv3_block1_add (Add)         (None, 36, 54, 512)  0           ['conv3_block1_0_bn[0][0]',      \n",
            "                                                                  'conv3_block1_3_bn[0][0]']      \n",
            "                                                                                                  \n",
            " conv3_block1_out (Activation)  (None, 36, 54, 512)  0           ['conv3_block1_add[0][0]']       \n",
            "                                                                                                  \n",
            " conv3_block2_1_conv (Conv2D)   (None, 36, 54, 128)  65664       ['conv3_block1_out[0][0]']       \n",
            "                                                                                                  \n",
            " conv3_block2_1_bn (BatchNormal  (None, 36, 54, 128)  512        ['conv3_block2_1_conv[0][0]']    \n",
            " ization)                                                                                         \n",
            "                                                                                                  \n",
            " conv3_block2_1_relu (Activatio  (None, 36, 54, 128)  0          ['conv3_block2_1_bn[0][0]']      \n",
            " n)                                                                                               \n",
            "                                                                                                  \n",
            " conv3_block2_2_conv (Conv2D)   (None, 36, 54, 128)  147584      ['conv3_block2_1_relu[0][0]']    \n",
            "                                                                                                  \n",
            " conv3_block2_2_bn (BatchNormal  (None, 36, 54, 128)  512        ['conv3_block2_2_conv[0][0]']    \n",
            " ization)                                                                                         \n",
            "                                                                                                  \n",
            " conv3_block2_2_relu (Activatio  (None, 36, 54, 128)  0          ['conv3_block2_2_bn[0][0]']      \n",
            " n)                                                                                               \n",
            "                                                                                                  \n",
            " conv3_block2_3_conv (Conv2D)   (None, 36, 54, 512)  66048       ['conv3_block2_2_relu[0][0]']    \n",
            "                                                                                                  \n",
            " conv3_block2_3_bn (BatchNormal  (None, 36, 54, 512)  2048       ['conv3_block2_3_conv[0][0]']    \n",
            " ization)                                                                                         \n",
            "                                                                                                  \n",
            " conv3_block2_add (Add)         (None, 36, 54, 512)  0           ['conv3_block1_out[0][0]',       \n",
            "                                                                  'conv3_block2_3_bn[0][0]']      \n",
            "                                                                                                  \n",
            " conv3_block2_out (Activation)  (None, 36, 54, 512)  0           ['conv3_block2_add[0][0]']       \n",
            "                                                                                                  \n",
            " conv3_block3_1_conv (Conv2D)   (None, 36, 54, 128)  65664       ['conv3_block2_out[0][0]']       \n",
            "                                                                                                  \n",
            " conv3_block3_1_bn (BatchNormal  (None, 36, 54, 128)  512        ['conv3_block3_1_conv[0][0]']    \n",
            " ization)                                                                                         \n",
            "                                                                                                  \n",
            " conv3_block3_1_relu (Activatio  (None, 36, 54, 128)  0          ['conv3_block3_1_bn[0][0]']      \n",
            " n)                                                                                               \n",
            "                                                                                                  \n",
            " conv3_block3_2_conv (Conv2D)   (None, 36, 54, 128)  147584      ['conv3_block3_1_relu[0][0]']    \n",
            "                                                                                                  \n",
            " conv3_block3_2_bn (BatchNormal  (None, 36, 54, 128)  512        ['conv3_block3_2_conv[0][0]']    \n",
            " ization)                                                                                         \n",
            "                                                                                                  \n",
            " conv3_block3_2_relu (Activatio  (None, 36, 54, 128)  0          ['conv3_block3_2_bn[0][0]']      \n",
            " n)                                                                                               \n",
            "                                                                                                  \n",
            " conv3_block3_3_conv (Conv2D)   (None, 36, 54, 512)  66048       ['conv3_block3_2_relu[0][0]']    \n",
            "                                                                                                  \n",
            " conv3_block3_3_bn (BatchNormal  (None, 36, 54, 512)  2048       ['conv3_block3_3_conv[0][0]']    \n",
            " ization)                                                                                         \n",
            "                                                                                                  \n",
            " conv3_block3_add (Add)         (None, 36, 54, 512)  0           ['conv3_block2_out[0][0]',       \n",
            "                                                                  'conv3_block3_3_bn[0][0]']      \n",
            "                                                                                                  \n",
            " conv3_block3_out (Activation)  (None, 36, 54, 512)  0           ['conv3_block3_add[0][0]']       \n",
            "                                                                                                  \n",
            " conv3_block4_1_conv (Conv2D)   (None, 36, 54, 128)  65664       ['conv3_block3_out[0][0]']       \n",
            "                                                                                                  \n",
            " conv3_block4_1_bn (BatchNormal  (None, 36, 54, 128)  512        ['conv3_block4_1_conv[0][0]']    \n",
            " ization)                                                                                         \n",
            "                                                                                                  \n",
            " conv3_block4_1_relu (Activatio  (None, 36, 54, 128)  0          ['conv3_block4_1_bn[0][0]']      \n",
            " n)                                                                                               \n",
            "                                                                                                  \n",
            " conv3_block4_2_conv (Conv2D)   (None, 36, 54, 128)  147584      ['conv3_block4_1_relu[0][0]']    \n",
            "                                                                                                  \n",
            " conv3_block4_2_bn (BatchNormal  (None, 36, 54, 128)  512        ['conv3_block4_2_conv[0][0]']    \n",
            " ization)                                                                                         \n",
            "                                                                                                  \n",
            " conv3_block4_2_relu (Activatio  (None, 36, 54, 128)  0          ['conv3_block4_2_bn[0][0]']      \n",
            " n)                                                                                               \n",
            "                                                                                                  \n",
            " conv3_block4_3_conv (Conv2D)   (None, 36, 54, 512)  66048       ['conv3_block4_2_relu[0][0]']    \n",
            "                                                                                                  \n",
            " conv3_block4_3_bn (BatchNormal  (None, 36, 54, 512)  2048       ['conv3_block4_3_conv[0][0]']    \n",
            " ization)                                                                                         \n",
            "                                                                                                  \n",
            " conv3_block4_add (Add)         (None, 36, 54, 512)  0           ['conv3_block3_out[0][0]',       \n",
            "                                                                  'conv3_block4_3_bn[0][0]']      \n",
            "                                                                                                  \n",
            " conv3_block4_out (Activation)  (None, 36, 54, 512)  0           ['conv3_block4_add[0][0]']       \n",
            "                                                                                                  \n",
            " conv4_block1_1_conv (Conv2D)   (None, 18, 27, 256)  131328      ['conv3_block4_out[0][0]']       \n",
            "                                                                                                  \n",
            " conv4_block1_1_bn (BatchNormal  (None, 18, 27, 256)  1024       ['conv4_block1_1_conv[0][0]']    \n",
            " ization)                                                                                         \n",
            "                                                                                                  \n",
            " conv4_block1_1_relu (Activatio  (None, 18, 27, 256)  0          ['conv4_block1_1_bn[0][0]']      \n",
            " n)                                                                                               \n",
            "                                                                                                  \n",
            " conv4_block1_2_conv (Conv2D)   (None, 18, 27, 256)  590080      ['conv4_block1_1_relu[0][0]']    \n",
            "                                                                                                  \n",
            " conv4_block1_2_bn (BatchNormal  (None, 18, 27, 256)  1024       ['conv4_block1_2_conv[0][0]']    \n",
            " ization)                                                                                         \n",
            "                                                                                                  \n",
            " conv4_block1_2_relu (Activatio  (None, 18, 27, 256)  0          ['conv4_block1_2_bn[0][0]']      \n",
            " n)                                                                                               \n",
            "                                                                                                  \n",
            " conv4_block1_0_conv (Conv2D)   (None, 18, 27, 1024  525312      ['conv3_block4_out[0][0]']       \n",
            "                                )                                                                 \n",
            "                                                                                                  \n",
            " conv4_block1_3_conv (Conv2D)   (None, 18, 27, 1024  263168      ['conv4_block1_2_relu[0][0]']    \n",
            "                                )                                                                 \n",
            "                                                                                                  \n",
            " conv4_block1_0_bn (BatchNormal  (None, 18, 27, 1024  4096       ['conv4_block1_0_conv[0][0]']    \n",
            " ization)                       )                                                                 \n",
            "                                                                                                  \n",
            " conv4_block1_3_bn (BatchNormal  (None, 18, 27, 1024  4096       ['conv4_block1_3_conv[0][0]']    \n",
            " ization)                       )                                                                 \n",
            "                                                                                                  \n",
            " conv4_block1_add (Add)         (None, 18, 27, 1024  0           ['conv4_block1_0_bn[0][0]',      \n",
            "                                )                                 'conv4_block1_3_bn[0][0]']      \n",
            "                                                                                                  \n",
            " conv4_block1_out (Activation)  (None, 18, 27, 1024  0           ['conv4_block1_add[0][0]']       \n",
            "                                )                                                                 \n",
            "                                                                                                  \n",
            " conv4_block2_1_conv (Conv2D)   (None, 18, 27, 256)  262400      ['conv4_block1_out[0][0]']       \n",
            "                                                                                                  \n",
            " conv4_block2_1_bn (BatchNormal  (None, 18, 27, 256)  1024       ['conv4_block2_1_conv[0][0]']    \n",
            " ization)                                                                                         \n",
            "                                                                                                  \n",
            " conv4_block2_1_relu (Activatio  (None, 18, 27, 256)  0          ['conv4_block2_1_bn[0][0]']      \n",
            " n)                                                                                               \n",
            "                                                                                                  \n",
            " conv4_block2_2_conv (Conv2D)   (None, 18, 27, 256)  590080      ['conv4_block2_1_relu[0][0]']    \n",
            "                                                                                                  \n",
            " conv4_block2_2_bn (BatchNormal  (None, 18, 27, 256)  1024       ['conv4_block2_2_conv[0][0]']    \n",
            " ization)                                                                                         \n",
            "                                                                                                  \n",
            " conv4_block2_2_relu (Activatio  (None, 18, 27, 256)  0          ['conv4_block2_2_bn[0][0]']      \n",
            " n)                                                                                               \n",
            "                                                                                                  \n",
            " conv4_block2_3_conv (Conv2D)   (None, 18, 27, 1024  263168      ['conv4_block2_2_relu[0][0]']    \n",
            "                                )                                                                 \n",
            "                                                                                                  \n",
            " conv4_block2_3_bn (BatchNormal  (None, 18, 27, 1024  4096       ['conv4_block2_3_conv[0][0]']    \n",
            " ization)                       )                                                                 \n",
            "                                                                                                  \n",
            " conv4_block2_add (Add)         (None, 18, 27, 1024  0           ['conv4_block1_out[0][0]',       \n",
            "                                )                                 'conv4_block2_3_bn[0][0]']      \n",
            "                                                                                                  \n",
            " conv4_block2_out (Activation)  (None, 18, 27, 1024  0           ['conv4_block2_add[0][0]']       \n",
            "                                )                                                                 \n",
            "                                                                                                  \n",
            " conv4_block3_1_conv (Conv2D)   (None, 18, 27, 256)  262400      ['conv4_block2_out[0][0]']       \n",
            "                                                                                                  \n",
            " conv4_block3_1_bn (BatchNormal  (None, 18, 27, 256)  1024       ['conv4_block3_1_conv[0][0]']    \n",
            " ization)                                                                                         \n",
            "                                                                                                  \n",
            " conv4_block3_1_relu (Activatio  (None, 18, 27, 256)  0          ['conv4_block3_1_bn[0][0]']      \n",
            " n)                                                                                               \n",
            "                                                                                                  \n",
            " conv4_block3_2_conv (Conv2D)   (None, 18, 27, 256)  590080      ['conv4_block3_1_relu[0][0]']    \n",
            "                                                                                                  \n",
            " conv4_block3_2_bn (BatchNormal  (None, 18, 27, 256)  1024       ['conv4_block3_2_conv[0][0]']    \n",
            " ization)                                                                                         \n",
            "                                                                                                  \n",
            " conv4_block3_2_relu (Activatio  (None, 18, 27, 256)  0          ['conv4_block3_2_bn[0][0]']      \n",
            " n)                                                                                               \n",
            "                                                                                                  \n",
            " conv4_block3_3_conv (Conv2D)   (None, 18, 27, 1024  263168      ['conv4_block3_2_relu[0][0]']    \n",
            "                                )                                                                 \n",
            "                                                                                                  \n",
            " conv4_block3_3_bn (BatchNormal  (None, 18, 27, 1024  4096       ['conv4_block3_3_conv[0][0]']    \n",
            " ization)                       )                                                                 \n",
            "                                                                                                  \n",
            " conv4_block3_add (Add)         (None, 18, 27, 1024  0           ['conv4_block2_out[0][0]',       \n",
            "                                )                                 'conv4_block3_3_bn[0][0]']      \n",
            "                                                                                                  \n",
            " conv4_block3_out (Activation)  (None, 18, 27, 1024  0           ['conv4_block3_add[0][0]']       \n",
            "                                )                                                                 \n",
            "                                                                                                  \n",
            " conv4_block4_1_conv (Conv2D)   (None, 18, 27, 256)  262400      ['conv4_block3_out[0][0]']       \n",
            "                                                                                                  \n",
            " conv4_block4_1_bn (BatchNormal  (None, 18, 27, 256)  1024       ['conv4_block4_1_conv[0][0]']    \n",
            " ization)                                                                                         \n",
            "                                                                                                  \n",
            " conv4_block4_1_relu (Activatio  (None, 18, 27, 256)  0          ['conv4_block4_1_bn[0][0]']      \n",
            " n)                                                                                               \n",
            "                                                                                                  \n",
            " conv4_block4_2_conv (Conv2D)   (None, 18, 27, 256)  590080      ['conv4_block4_1_relu[0][0]']    \n",
            "                                                                                                  \n",
            " conv4_block4_2_bn (BatchNormal  (None, 18, 27, 256)  1024       ['conv4_block4_2_conv[0][0]']    \n",
            " ization)                                                                                         \n",
            "                                                                                                  \n",
            " conv4_block4_2_relu (Activatio  (None, 18, 27, 256)  0          ['conv4_block4_2_bn[0][0]']      \n",
            " n)                                                                                               \n",
            "                                                                                                  \n",
            " conv4_block4_3_conv (Conv2D)   (None, 18, 27, 1024  263168      ['conv4_block4_2_relu[0][0]']    \n",
            "                                )                                                                 \n",
            "                                                                                                  \n",
            " conv4_block4_3_bn (BatchNormal  (None, 18, 27, 1024  4096       ['conv4_block4_3_conv[0][0]']    \n",
            " ization)                       )                                                                 \n",
            "                                                                                                  \n",
            " conv4_block4_add (Add)         (None, 18, 27, 1024  0           ['conv4_block3_out[0][0]',       \n",
            "                                )                                 'conv4_block4_3_bn[0][0]']      \n",
            "                                                                                                  \n",
            " conv4_block4_out (Activation)  (None, 18, 27, 1024  0           ['conv4_block4_add[0][0]']       \n",
            "                                )                                                                 \n",
            "                                                                                                  \n",
            " conv4_block5_1_conv (Conv2D)   (None, 18, 27, 256)  262400      ['conv4_block4_out[0][0]']       \n",
            "                                                                                                  \n",
            " conv4_block5_1_bn (BatchNormal  (None, 18, 27, 256)  1024       ['conv4_block5_1_conv[0][0]']    \n",
            " ization)                                                                                         \n",
            "                                                                                                  \n",
            " conv4_block5_1_relu (Activatio  (None, 18, 27, 256)  0          ['conv4_block5_1_bn[0][0]']      \n",
            " n)                                                                                               \n",
            "                                                                                                  \n",
            " conv4_block5_2_conv (Conv2D)   (None, 18, 27, 256)  590080      ['conv4_block5_1_relu[0][0]']    \n",
            "                                                                                                  \n",
            " conv4_block5_2_bn (BatchNormal  (None, 18, 27, 256)  1024       ['conv4_block5_2_conv[0][0]']    \n",
            " ization)                                                                                         \n",
            "                                                                                                  \n",
            " conv4_block5_2_relu (Activatio  (None, 18, 27, 256)  0          ['conv4_block5_2_bn[0][0]']      \n",
            " n)                                                                                               \n",
            "                                                                                                  \n",
            " conv4_block5_3_conv (Conv2D)   (None, 18, 27, 1024  263168      ['conv4_block5_2_relu[0][0]']    \n",
            "                                )                                                                 \n",
            "                                                                                                  \n",
            " conv4_block5_3_bn (BatchNormal  (None, 18, 27, 1024  4096       ['conv4_block5_3_conv[0][0]']    \n",
            " ization)                       )                                                                 \n",
            "                                                                                                  \n",
            " conv4_block5_add (Add)         (None, 18, 27, 1024  0           ['conv4_block4_out[0][0]',       \n",
            "                                )                                 'conv4_block5_3_bn[0][0]']      \n",
            "                                                                                                  \n",
            " conv4_block5_out (Activation)  (None, 18, 27, 1024  0           ['conv4_block5_add[0][0]']       \n",
            "                                )                                                                 \n",
            "                                                                                                  \n",
            " conv4_block6_1_conv (Conv2D)   (None, 18, 27, 256)  262400      ['conv4_block5_out[0][0]']       \n",
            "                                                                                                  \n",
            " conv4_block6_1_bn (BatchNormal  (None, 18, 27, 256)  1024       ['conv4_block6_1_conv[0][0]']    \n",
            " ization)                                                                                         \n",
            "                                                                                                  \n",
            " conv4_block6_1_relu (Activatio  (None, 18, 27, 256)  0          ['conv4_block6_1_bn[0][0]']      \n",
            " n)                                                                                               \n",
            "                                                                                                  \n",
            " conv4_block6_2_conv (Conv2D)   (None, 18, 27, 256)  590080      ['conv4_block6_1_relu[0][0]']    \n",
            "                                                                                                  \n",
            " conv4_block6_2_bn (BatchNormal  (None, 18, 27, 256)  1024       ['conv4_block6_2_conv[0][0]']    \n",
            " ization)                                                                                         \n",
            "                                                                                                  \n",
            " conv4_block6_2_relu (Activatio  (None, 18, 27, 256)  0          ['conv4_block6_2_bn[0][0]']      \n",
            " n)                                                                                               \n",
            "                                                                                                  \n",
            " conv4_block6_3_conv (Conv2D)   (None, 18, 27, 1024  263168      ['conv4_block6_2_relu[0][0]']    \n",
            "                                )                                                                 \n",
            "                                                                                                  \n",
            " conv4_block6_3_bn (BatchNormal  (None, 18, 27, 1024  4096       ['conv4_block6_3_conv[0][0]']    \n",
            " ization)                       )                                                                 \n",
            "                                                                                                  \n",
            " conv4_block6_add (Add)         (None, 18, 27, 1024  0           ['conv4_block5_out[0][0]',       \n",
            "                                )                                 'conv4_block6_3_bn[0][0]']      \n",
            "                                                                                                  \n",
            " conv4_block6_out (Activation)  (None, 18, 27, 1024  0           ['conv4_block6_add[0][0]']       \n",
            "                                )                                                                 \n",
            "                                                                                                  \n",
            " conv5_block1_1_conv (Conv2D)   (None, 9, 14, 512)   524800      ['conv4_block6_out[0][0]']       \n",
            "                                                                                                  \n",
            " conv5_block1_1_bn (BatchNormal  (None, 9, 14, 512)  2048        ['conv5_block1_1_conv[0][0]']    \n",
            " ization)                                                                                         \n",
            "                                                                                                  \n",
            " conv5_block1_1_relu (Activatio  (None, 9, 14, 512)  0           ['conv5_block1_1_bn[0][0]']      \n",
            " n)                                                                                               \n",
            "                                                                                                  \n",
            " conv5_block1_2_conv (Conv2D)   (None, 9, 14, 512)   2359808     ['conv5_block1_1_relu[0][0]']    \n",
            "                                                                                                  \n",
            " conv5_block1_2_bn (BatchNormal  (None, 9, 14, 512)  2048        ['conv5_block1_2_conv[0][0]']    \n",
            " ization)                                                                                         \n",
            "                                                                                                  \n",
            " conv5_block1_2_relu (Activatio  (None, 9, 14, 512)  0           ['conv5_block1_2_bn[0][0]']      \n",
            " n)                                                                                               \n",
            "                                                                                                  \n",
            " conv5_block1_0_conv (Conv2D)   (None, 9, 14, 2048)  2099200     ['conv4_block6_out[0][0]']       \n",
            "                                                                                                  \n",
            " conv5_block1_3_conv (Conv2D)   (None, 9, 14, 2048)  1050624     ['conv5_block1_2_relu[0][0]']    \n",
            "                                                                                                  \n",
            " conv5_block1_0_bn (BatchNormal  (None, 9, 14, 2048)  8192       ['conv5_block1_0_conv[0][0]']    \n",
            " ization)                                                                                         \n",
            "                                                                                                  \n",
            " conv5_block1_3_bn (BatchNormal  (None, 9, 14, 2048)  8192       ['conv5_block1_3_conv[0][0]']    \n",
            " ization)                                                                                         \n",
            "                                                                                                  \n",
            " conv5_block1_add (Add)         (None, 9, 14, 2048)  0           ['conv5_block1_0_bn[0][0]',      \n",
            "                                                                  'conv5_block1_3_bn[0][0]']      \n",
            "                                                                                                  \n",
            " conv5_block1_out (Activation)  (None, 9, 14, 2048)  0           ['conv5_block1_add[0][0]']       \n",
            "                                                                                                  \n",
            " conv5_block2_1_conv (Conv2D)   (None, 9, 14, 512)   1049088     ['conv5_block1_out[0][0]']       \n",
            "                                                                                                  \n",
            " conv5_block2_1_bn (BatchNormal  (None, 9, 14, 512)  2048        ['conv5_block2_1_conv[0][0]']    \n",
            " ization)                                                                                         \n",
            "                                                                                                  \n",
            " conv5_block2_1_relu (Activatio  (None, 9, 14, 512)  0           ['conv5_block2_1_bn[0][0]']      \n",
            " n)                                                                                               \n",
            "                                                                                                  \n",
            " conv5_block2_2_conv (Conv2D)   (None, 9, 14, 512)   2359808     ['conv5_block2_1_relu[0][0]']    \n",
            "                                                                                                  \n",
            " conv5_block2_2_bn (BatchNormal  (None, 9, 14, 512)  2048        ['conv5_block2_2_conv[0][0]']    \n",
            " ization)                                                                                         \n",
            "                                                                                                  \n",
            " conv5_block2_2_relu (Activatio  (None, 9, 14, 512)  0           ['conv5_block2_2_bn[0][0]']      \n",
            " n)                                                                                               \n",
            "                                                                                                  \n",
            " conv5_block2_3_conv (Conv2D)   (None, 9, 14, 2048)  1050624     ['conv5_block2_2_relu[0][0]']    \n",
            "                                                                                                  \n",
            " conv5_block2_3_bn (BatchNormal  (None, 9, 14, 2048)  8192       ['conv5_block2_3_conv[0][0]']    \n",
            " ization)                                                                                         \n",
            "                                                                                                  \n",
            " conv5_block2_add (Add)         (None, 9, 14, 2048)  0           ['conv5_block1_out[0][0]',       \n",
            "                                                                  'conv5_block2_3_bn[0][0]']      \n",
            "                                                                                                  \n",
            " conv5_block2_out (Activation)  (None, 9, 14, 2048)  0           ['conv5_block2_add[0][0]']       \n",
            "                                                                                                  \n",
            " conv5_block3_1_conv (Conv2D)   (None, 9, 14, 512)   1049088     ['conv5_block2_out[0][0]']       \n",
            "                                                                                                  \n",
            " conv5_block3_1_bn (BatchNormal  (None, 9, 14, 512)  2048        ['conv5_block3_1_conv[0][0]']    \n",
            " ization)                                                                                         \n",
            "                                                                                                  \n",
            " conv5_block3_1_relu (Activatio  (None, 9, 14, 512)  0           ['conv5_block3_1_bn[0][0]']      \n",
            " n)                                                                                               \n",
            "                                                                                                  \n",
            " conv5_block3_2_conv (Conv2D)   (None, 9, 14, 512)   2359808     ['conv5_block3_1_relu[0][0]']    \n",
            "                                                                                                  \n",
            " conv5_block3_2_bn (BatchNormal  (None, 9, 14, 512)  2048        ['conv5_block3_2_conv[0][0]']    \n",
            " ization)                                                                                         \n",
            "                                                                                                  \n",
            " conv5_block3_2_relu (Activatio  (None, 9, 14, 512)  0           ['conv5_block3_2_bn[0][0]']      \n",
            " n)                                                                                               \n",
            "                                                                                                  \n",
            " conv5_block3_3_conv (Conv2D)   (None, 9, 14, 2048)  1050624     ['conv5_block3_2_relu[0][0]']    \n",
            "                                                                                                  \n",
            " conv5_block3_3_bn (BatchNormal  (None, 9, 14, 2048)  8192       ['conv5_block3_3_conv[0][0]']    \n",
            " ization)                                                                                         \n",
            "                                                                                                  \n",
            " conv5_block3_add (Add)         (None, 9, 14, 2048)  0           ['conv5_block2_out[0][0]',       \n",
            "                                                                  'conv5_block3_3_bn[0][0]']      \n",
            "                                                                                                  \n",
            " conv5_block3_out (Activation)  (None, 9, 14, 2048)  0           ['conv5_block3_add[0][0]']       \n",
            "                                                                                                  \n",
            "==================================================================================================\n",
            "Total params: 23,587,712\n",
            "Trainable params: 23,534,592\n",
            "Non-trainable params: 53,120\n",
            "__________________________________________________________________________________________________\n"
          ]
        }
      ]
    },
    {
      "cell_type": "code",
      "source": [
        "#get the features before the fully connected layer for classification\n",
        "train_features = resnet.predict(np.array(X_train), batch_size=64, verbose=1)\n",
        "test_features = resnet.predict(np.array(X_test), batch_size=64, verbose=1)"
      ],
      "metadata": {
        "colab": {
          "base_uri": "https://localhost:8080/"
        },
        "id": "ancRc208x-7V",
        "outputId": "3210bde5-98ca-4d6c-d651-645d8a6c7ef5"
      },
      "execution_count": null,
      "outputs": [
        {
          "output_type": "stream",
          "name": "stdout",
          "text": [
            "15/15 [==============================] - 2s 55ms/step\n",
            "8/8 [==============================] - 0s 53ms/step\n"
          ]
        }
      ]
    },
    {
      "cell_type": "code",
      "source": [
        "print(train_features.shape)"
      ],
      "metadata": {
        "colab": {
          "base_uri": "https://localhost:8080/"
        },
        "id": "rRadJUEMSCKu",
        "outputId": "6d7aa563-b569-4fae-ff4d-56434bcce3a4"
      },
      "execution_count": null,
      "outputs": [
        {
          "output_type": "stream",
          "name": "stdout",
          "text": [
            "(948, 9, 13, 1024)\n"
          ]
        }
      ]
    },
    {
      "cell_type": "code",
      "source": [
        "#get the dimensions of the features in order to setup the classifier(we need to compress them in one dimension)\n",
        "train_size=X_train.shape[0]\n",
        "test_size=X_test.shape[0]\n",
        "train_dim1 , train_dim2 , train_dim3 = train_features.shape[1], train_features.shape[2], train_features.shape[3]\n",
        "test_dim1 , test_dim2 , test_dim3 = test_features.shape[1], test_features.shape[2], test_features.shape[3]\n",
        "print(train_dim1)\n",
        "print(test_dim1)\n",
        "print(train_dim2)\n",
        "print(test_dim2)\n",
        "print(train_dim3)\n",
        "print(test_dim3)"
      ],
      "metadata": {
        "id": "cmr-teDayO0R",
        "colab": {
          "base_uri": "https://localhost:8080/"
        },
        "outputId": "8d39865c-7e6a-40d6-d8fd-3acadbd84086"
      },
      "execution_count": null,
      "outputs": [
        {
          "output_type": "stream",
          "name": "stdout",
          "text": [
            "9\n",
            "9\n",
            "14\n",
            "14\n",
            "2048\n",
            "2048\n"
          ]
        }
      ]
    },
    {
      "cell_type": "code",
      "source": [
        "print(train)"
      ],
      "metadata": {
        "colab": {
          "base_uri": "https://localhost:8080/"
        },
        "id": "ukL5I8-GSwu2",
        "outputId": "71c9ecc9-6582-411b-ec17-00255d7e8a47"
      },
      "execution_count": null,
      "outputs": [
        {
          "output_type": "stream",
          "name": "stdout",
          "text": [
            "948\n"
          ]
        }
      ]
    },
    {
      "cell_type": "code",
      "source": [
        "#we flatten the features in order to give them to the fully connected classifier layer\n",
        "train_features_flat = np.reshape(train_features, (train_size, train_dim1*train_dim2*train_dim3))\n",
        "test_features_flat = np.reshape(test_features, (test_size, test_dim1*test_dim2*test_dim3))"
      ],
      "metadata": {
        "id": "CKn3mjvqyXXv"
      },
      "execution_count": null,
      "outputs": []
    },
    {
      "cell_type": "code",
      "source": [
        "print(train_features_flat.shape)\n",
        "print(test_features_flat.shape)"
      ],
      "metadata": {
        "colab": {
          "base_uri": "https://localhost:8080/"
        },
        "id": "Q_pNX5HJuznr",
        "outputId": "60bb3ff8-202d-4318-d096-dc8ccbf009d5"
      },
      "execution_count": null,
      "outputs": [
        {
          "output_type": "stream",
          "name": "stdout",
          "text": [
            "(948, 258048)\n",
            "(474, 258048)\n"
          ]
        }
      ]
    },
    {
      "cell_type": "code",
      "source": [
        "from tensorflow.keras import models, layers, datasets, optimizers\n",
        "from keras import callbacks"
      ],
      "metadata": {
        "id": "_dApW6fUyeyy"
      },
      "execution_count": null,
      "outputs": []
    },
    {
      "cell_type": "code",
      "source": [
        "#define the classifier for fine tuning the model :\n",
        "#NB_TRAIN_SAMPLES = train_features_flat.shape[0]\n",
        "NB_EPOCHS = 100\n",
        "num_classes=5\n",
        "#classifier with leaky relu\n",
        "classifier = models.Sequential()\n",
        "classifier.add(layers.Dense(64, activation=tf.keras.layers.LeakyReLU(), input_dim=(train_dim1*train_dim2*train_dim3)))\n",
        "classifier.add(layers.Dense(32,activation=tf.keras.layers.LeakyReLU()))\n",
        "classifier.add(layers.Dropout(0.2))\n",
        "classifier.add(layers.Dense(num_classes, activation='softmax'))"
      ],
      "metadata": {
        "id": "dV6r8c9MygyM"
      },
      "execution_count": null,
      "outputs": []
    },
    {
      "cell_type": "code",
      "source": [
        "classifier.summary()"
      ],
      "metadata": {
        "colab": {
          "base_uri": "https://localhost:8080/"
        },
        "id": "a2Urv8zHZ0-X",
        "outputId": "e19f6b90-36b1-4890-c68b-b6ff34911b83"
      },
      "execution_count": null,
      "outputs": [
        {
          "output_type": "stream",
          "name": "stdout",
          "text": [
            "Model: \"sequential_7\"\n",
            "_________________________________________________________________\n",
            " Layer (type)                Output Shape              Param #   \n",
            "=================================================================\n",
            " dense_21 (Dense)            (None, 64)                16515136  \n",
            "                                                                 \n",
            " dense_22 (Dense)            (None, 32)                2080      \n",
            "                                                                 \n",
            " dropout_7 (Dropout)         (None, 32)                0         \n",
            "                                                                 \n",
            " dense_23 (Dense)            (None, 5)                 165       \n",
            "                                                                 \n",
            "=================================================================\n",
            "Total params: 16,517,381\n",
            "Trainable params: 16,517,381\n",
            "Non-trainable params: 0\n",
            "_________________________________________________________________\n"
          ]
        }
      ]
    },
    {
      "cell_type": "code",
      "source": [
        "#compile the model\n",
        "classifier.compile(\n",
        "    loss='sparse_categorical_crossentropy',\n",
        "    optimizer=optimizers.Adam(),\n",
        "    metrics=['acc'])"
      ],
      "metadata": {
        "id": "dl5pTBpuykHA"
      },
      "execution_count": null,
      "outputs": []
    },
    {
      "cell_type": "code",
      "source": [
        "#compile the model\n",
        "classifier.compile(\n",
        "    loss='categorical_crossentropy',\n",
        "    optimizer=optimizers.Adam(),\n",
        "    metrics=['acc'])"
      ],
      "metadata": {
        "id": "Lg7mSZU5nm49"
      },
      "execution_count": null,
      "outputs": []
    },
    {
      "cell_type": "code",
      "source": [
        "#Need this conversion only if the choosed loss is categorical-crossentropy\n",
        "train_Y_one_hot = to_categorical(y_train)\n",
        "#val_Y_one_hot=to_categorical(y_test)\n",
        "test_Y_one_hot = to_categorical(y_test)"
      ],
      "metadata": {
        "id": "NYiJqLFQntXs"
      },
      "execution_count": null,
      "outputs": []
    },
    {
      "cell_type": "code",
      "source": [
        "#setup some useful callback for training\n",
        "\n",
        "reduce_learning = callbacks.ReduceLROnPlateau(\n",
        "    monitor='loss',\n",
        "    factor=0.2,\n",
        "    patience=2,\n",
        "    verbose=1,\n",
        "    mode='auto',\n",
        "    min_delta=0.0001,\n",
        "    cooldown=2,\n",
        "    min_lr=0)\n",
        "\n",
        "eary_stopping = callbacks.EarlyStopping(\n",
        "    monitor='loss',\n",
        "    min_delta=0,\n",
        "    patience=7,\n",
        "    verbose=1,\n",
        "    mode='auto')\n",
        "callbacks_x = [reduce_learning, eary_stopping]\n",
        "#callbacks = [reduce_learning]"
      ],
      "metadata": {
        "id": "OdARk0EFypDU"
      },
      "execution_count": null,
      "outputs": []
    },
    {
      "cell_type": "code",
      "source": [
        "#train the model and then evaluate it\n",
        "history = classifier.fit(\n",
        "    train_features_flat,\n",
        "    y_train,\n",
        "    batch_size=64,\n",
        "    epochs=NB_EPOCHS,\n",
        "    validation_data=(test_features_flat,y_test),\n",
        "    callbacks=callbacks_x\n",
        ")\n",
        "test_loss, test_acc = classifier.evaluate(test_features_flat,y_test,batch_size=64)"
      ],
      "metadata": {
        "colab": {
          "base_uri": "https://localhost:8080/"
        },
        "id": "-fbhefQ6ys9H",
        "outputId": "261db0bf-1080-4f17-c7f2-a6c7b70396de"
      },
      "execution_count": null,
      "outputs": [
        {
          "output_type": "stream",
          "name": "stdout",
          "text": [
            "Epoch 1/100\n",
            "15/15 [==============================] - 2s 62ms/step - loss: 55.3439 - acc: 0.2511 - val_loss: 10.5465 - val_acc: 0.5084 - lr: 0.0010\n",
            "Epoch 2/100\n",
            "15/15 [==============================] - 0s 29ms/step - loss: 16.1005 - acc: 0.4557 - val_loss: 4.9899 - val_acc: 0.6835 - lr: 0.0010\n",
            "Epoch 3/100\n",
            "15/15 [==============================] - 0s 30ms/step - loss: 5.7324 - acc: 0.6519 - val_loss: 1.2849 - val_acc: 0.8523 - lr: 0.0010\n",
            "Epoch 4/100\n",
            "15/15 [==============================] - 0s 30ms/step - loss: 2.6104 - acc: 0.7722 - val_loss: 1.5974 - val_acc: 0.8270 - lr: 0.0010\n",
            "Epoch 5/100\n",
            "15/15 [==============================] - 0s 30ms/step - loss: 1.6749 - acc: 0.8428 - val_loss: 1.1036 - val_acc: 0.8797 - lr: 0.0010\n",
            "Epoch 6/100\n",
            "15/15 [==============================] - 0s 29ms/step - loss: 0.9305 - acc: 0.8914 - val_loss: 1.1484 - val_acc: 0.8861 - lr: 0.0010\n",
            "Epoch 7/100\n",
            "15/15 [==============================] - 0s 31ms/step - loss: 0.5860 - acc: 0.9156 - val_loss: 0.7181 - val_acc: 0.8861 - lr: 0.0010\n",
            "Epoch 8/100\n",
            "15/15 [==============================] - 0s 31ms/step - loss: 0.4150 - acc: 0.9335 - val_loss: 0.4846 - val_acc: 0.9430 - lr: 0.0010\n",
            "Epoch 9/100\n",
            "15/15 [==============================] - 0s 30ms/step - loss: 0.1712 - acc: 0.9578 - val_loss: 0.4979 - val_acc: 0.9494 - lr: 0.0010\n",
            "Epoch 10/100\n",
            "15/15 [==============================] - 0s 30ms/step - loss: 0.3056 - acc: 0.9546 - val_loss: 0.4482 - val_acc: 0.9557 - lr: 0.0010\n",
            "Epoch 11/100\n",
            "13/15 [=========================>....] - ETA: 0s - loss: 0.1960 - acc: 0.9591\n",
            "Epoch 11: ReduceLROnPlateau reducing learning rate to 0.00020000000949949026.\n",
            "15/15 [==============================] - 0s 30ms/step - loss: 0.1866 - acc: 0.9610 - val_loss: 0.4112 - val_acc: 0.9599 - lr: 0.0010\n",
            "Epoch 12/100\n",
            "15/15 [==============================] - 0s 31ms/step - loss: 0.1293 - acc: 0.9705 - val_loss: 0.4500 - val_acc: 0.9536 - lr: 2.0000e-04\n",
            "Epoch 13/100\n",
            "15/15 [==============================] - 0s 30ms/step - loss: 0.0638 - acc: 0.9852 - val_loss: 0.4788 - val_acc: 0.9599 - lr: 2.0000e-04\n",
            "Epoch 14/100\n",
            "15/15 [==============================] - 0s 30ms/step - loss: 0.0268 - acc: 0.9916 - val_loss: 0.3470 - val_acc: 0.9662 - lr: 2.0000e-04\n",
            "Epoch 15/100\n",
            "15/15 [==============================] - 0s 29ms/step - loss: 0.0994 - acc: 0.9884 - val_loss: 0.3514 - val_acc: 0.9641 - lr: 2.0000e-04\n",
            "Epoch 16/100\n",
            "15/15 [==============================] - 0s 30ms/step - loss: 0.0219 - acc: 0.9937 - val_loss: 0.4281 - val_acc: 0.9641 - lr: 2.0000e-04\n",
            "Epoch 17/100\n",
            "15/15 [==============================] - 0s 30ms/step - loss: 0.0220 - acc: 0.9937 - val_loss: 0.4442 - val_acc: 0.9684 - lr: 2.0000e-04\n",
            "Epoch 18/100\n",
            "15/15 [==============================] - 0s 32ms/step - loss: 0.0058 - acc: 0.9979 - val_loss: 0.4564 - val_acc: 0.9705 - lr: 2.0000e-04\n",
            "Epoch 19/100\n",
            "15/15 [==============================] - 0s 30ms/step - loss: 0.0223 - acc: 0.9958 - val_loss: 0.4669 - val_acc: 0.9747 - lr: 2.0000e-04\n",
            "Epoch 20/100\n",
            "15/15 [==============================] - ETA: 0s - loss: 0.0273 - acc: 0.9926\n",
            "Epoch 20: ReduceLROnPlateau reducing learning rate to 4.0000001899898055e-05.\n",
            "15/15 [==============================] - 0s 34ms/step - loss: 0.0273 - acc: 0.9926 - val_loss: 0.4887 - val_acc: 0.9684 - lr: 2.0000e-04\n",
            "Epoch 21/100\n",
            "15/15 [==============================] - 0s 31ms/step - loss: 0.0106 - acc: 0.9968 - val_loss: 0.4820 - val_acc: 0.9641 - lr: 4.0000e-05\n",
            "Epoch 22/100\n",
            "15/15 [==============================] - 0s 31ms/step - loss: 0.0038 - acc: 0.9968 - val_loss: 0.4660 - val_acc: 0.9641 - lr: 4.0000e-05\n",
            "Epoch 23/100\n",
            "15/15 [==============================] - 0s 31ms/step - loss: 0.0177 - acc: 0.9947 - val_loss: 0.4559 - val_acc: 0.9662 - lr: 4.0000e-05\n",
            "Epoch 24/100\n",
            "13/15 [=========================>....] - ETA: 0s - loss: 0.0148 - acc: 0.9952\n",
            "Epoch 24: ReduceLROnPlateau reducing learning rate to 8.000000525498762e-06.\n",
            "15/15 [==============================] - 0s 30ms/step - loss: 0.0142 - acc: 0.9947 - val_loss: 0.4524 - val_acc: 0.9641 - lr: 4.0000e-05\n",
            "Epoch 25/100\n",
            "15/15 [==============================] - 0s 29ms/step - loss: 0.0164 - acc: 0.9958 - val_loss: 0.4490 - val_acc: 0.9641 - lr: 8.0000e-06\n",
            "Epoch 26/100\n",
            "15/15 [==============================] - 0s 31ms/step - loss: 0.0202 - acc: 0.9968 - val_loss: 0.4488 - val_acc: 0.9641 - lr: 8.0000e-06\n",
            "Epoch 27/100\n",
            "13/15 [=========================>....] - ETA: 0s - loss: 0.0162 - acc: 0.9940\n",
            "Epoch 27: ReduceLROnPlateau reducing learning rate to 1.6000001778593287e-06.\n",
            "15/15 [==============================] - 0s 31ms/step - loss: 0.0142 - acc: 0.9947 - val_loss: 0.4500 - val_acc: 0.9662 - lr: 8.0000e-06\n",
            "Epoch 28/100\n",
            "15/15 [==============================] - 0s 30ms/step - loss: 0.0225 - acc: 0.9958 - val_loss: 0.4507 - val_acc: 0.9662 - lr: 1.6000e-06\n",
            "Epoch 29/100\n",
            "15/15 [==============================] - 0s 30ms/step - loss: 0.0107 - acc: 0.9958 - val_loss: 0.4506 - val_acc: 0.9662 - lr: 1.6000e-06\n",
            "Epoch 29: early stopping\n",
            "8/8 [==============================] - 0s 16ms/step - loss: 0.4506 - acc: 0.9662\n"
          ]
        }
      ]
    },
    {
      "cell_type": "code",
      "source": [
        "#evaluate the model\n",
        "acc = classifier.evaluate(test_features_flat, y_test)\n",
        "print(\"Accuracy %.3f\" %acc[-1])"
      ],
      "metadata": {
        "id": "GQLmvsMb9SqW",
        "colab": {
          "base_uri": "https://localhost:8080/"
        },
        "outputId": "bdf2240e-7068-45eb-94a4-c71a68ffa348"
      },
      "execution_count": null,
      "outputs": [
        {
          "output_type": "stream",
          "name": "stdout",
          "text": [
            "15/15 [==============================] - 0s 9ms/step - loss: 0.4506 - acc: 0.9662\n",
            "Accuracy 0.966\n"
          ]
        }
      ]
    },
    {
      "cell_type": "code",
      "source": [
        "print(acc[0]/64)\n",
        "print(acc[1])"
      ],
      "metadata": {
        "id": "eiq8lS-jJ-qz"
      },
      "execution_count": null,
      "outputs": []
    },
    {
      "cell_type": "code",
      "source": [
        "classifier.metrics_names"
      ],
      "metadata": {
        "id": "XQFY0nyWHoSw"
      },
      "execution_count": null,
      "outputs": []
    },
    {
      "cell_type": "code",
      "source": [
        "#get the predicted labels from the test set\n",
        "y_pred_sm = classifier.predict(test_features_flat)\n",
        "y_pred = np.argmax(y_pred_sm, axis=1)"
      ],
      "metadata": {
        "id": "oyWo91_V9WY5",
        "colab": {
          "base_uri": "https://localhost:8080/"
        },
        "outputId": "46f44e99-88f5-4251-c8cd-3010b865e2a7"
      },
      "execution_count": null,
      "outputs": [
        {
          "output_type": "stream",
          "name": "stdout",
          "text": [
            "15/15 [==============================] - 0s 9ms/step\n"
          ]
        }
      ]
    },
    {
      "cell_type": "code",
      "source": [
        "print(classification_report(y_test, y_pred, labels=None, target_names=['0','1','2','3','4'], digits=3))"
      ],
      "metadata": {
        "id": "rzILaIpi9Tu9",
        "colab": {
          "base_uri": "https://localhost:8080/"
        },
        "outputId": "50c04502-38c0-48f2-bf18-538e7d6e2b45"
      },
      "execution_count": null,
      "outputs": [
        {
          "output_type": "stream",
          "name": "stdout",
          "text": [
            "              precision    recall  f1-score   support\n",
            "\n",
            "           0      0.976     0.911     0.943        90\n",
            "           1      0.951     0.987     0.969        79\n",
            "           2      0.954     0.963     0.959       108\n",
            "           3      0.980     0.970     0.975       100\n",
            "           4      0.970     1.000     0.985        97\n",
            "\n",
            "    accuracy                          0.966       474\n",
            "   macro avg      0.966     0.966     0.966       474\n",
            "weighted avg      0.966     0.966     0.966       474\n",
            "\n"
          ]
        }
      ]
    }
  ]
}