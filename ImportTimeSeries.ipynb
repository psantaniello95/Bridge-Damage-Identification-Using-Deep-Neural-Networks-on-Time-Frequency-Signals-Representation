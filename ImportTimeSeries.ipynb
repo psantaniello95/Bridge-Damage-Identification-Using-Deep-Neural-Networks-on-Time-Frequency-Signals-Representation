{
  "nbformat": 4,
  "nbformat_minor": 0,
  "metadata": {
    "colab": {
      "provenance": [],
      "authorship_tag": "ABX9TyPjfIrNLxP0ftJufP25Ds9t",
      "include_colab_link": true
    },
    "kernelspec": {
      "name": "python3",
      "display_name": "Python 3"
    },
    "language_info": {
      "name": "python"
    }
  },
  "cells": [
    {
      "cell_type": "markdown",
      "metadata": {
        "id": "view-in-github",
        "colab_type": "text"
      },
      "source": [
        "<a href=\"https://colab.research.google.com/github/psantaniello95/Bridge-Damage-Identification-Using-Deep-Neural-Networks-on-Time-Frequency-Signals-Representation/blob/main/ImportTimeSeries.ipynb\" target=\"_parent\"><img src=\"https://colab.research.google.com/assets/colab-badge.svg\" alt=\"Open In Colab\"/></a>"
      ]
    },
    {
      "cell_type": "code",
      "execution_count": null,
      "metadata": {
        "colab": {
          "base_uri": "https://localhost:8080/"
        },
        "id": "TBFmOoJmDkFo",
        "outputId": "e650fd9a-05c2-4d05-9975-46ccd2c2c42b"
      },
      "outputs": [
        {
          "output_type": "stream",
          "name": "stdout",
          "text": [
            "Mounted at /content/drive\n"
          ]
        }
      ],
      "source": [
        "#mount the google drive\n",
        "from google.colab import drive\n",
        "drive.mount('/content/drive')"
      ]
    },
    {
      "cell_type": "code",
      "source": [
        "#import libraries\n",
        "import scipy\n",
        "import scipy.io\n",
        "import numpy as np\n",
        "import tensorflow as tf\n",
        "from sklearn import datasets\n",
        "from sklearn.model_selection import train_test_split, cross_val_score, ShuffleSplit, GridSearchCV\n",
        "from sklearn import svm\n",
        "from sklearn.naive_bayes import GaussianNB\n",
        "from sklearn.linear_model import LogisticRegression\n",
        "from sklearn.metrics import classification_report, confusion_matrix\n",
        "from sklearn.utils.multiclass import unique_labels\n",
        "import matplotlib.pyplot as plt\n",
        "import matplotlib\n",
        "import random\n",
        "import keras\n",
        "import cv2 as cv"
      ],
      "metadata": {
        "id": "Zt8SVAZ2DoZg"
      },
      "execution_count": null,
      "outputs": []
    },
    {
      "cell_type": "code",
      "source": [
        "#first reference measurement, prior to Koppigen pier installation -> Ambient Vibration Test class 0 - SCENARIO 1 - NO DAMAGE\n",
        "Data_1=scipy.io.loadmat('/content/drive/My Drive/Master-Thesis-BridgeDamageDetection/Dataset/pdt_01-08/01/avt/01setup01.mat')\n",
        "Data_2=scipy.io.loadmat('/content/drive/My Drive/Master-Thesis-BridgeDamageDetection/Dataset/pdt_01-08/01/avt/01setup02.mat')\n",
        "Data_3=scipy.io.loadmat('/content/drive/My Drive/Master-Thesis-BridgeDamageDetection/Dataset/pdt_01-08/01/avt/01setup03.mat')\n",
        "Data_4=scipy.io.loadmat('/content/drive/My Drive/Master-Thesis-BridgeDamageDetection/Dataset/pdt_01-08/01/avt/01setup04.mat')\n",
        "Data_5=scipy.io.loadmat('/content/drive/My Drive/Master-Thesis-BridgeDamageDetection/Dataset/pdt_01-08/01/avt/01setup05.mat')\n",
        "Data_6=scipy.io.loadmat('/content/drive/My Drive/Master-Thesis-BridgeDamageDetection/Dataset/pdt_01-08/01/avt/01setup06.mat')\n",
        "Data_7=scipy.io.loadmat('/content/drive/My Drive/Master-Thesis-BridgeDamageDetection/Dataset/pdt_01-08/01/avt/01setup07.mat')\n",
        "Data_8=scipy.io.loadmat('/content/drive/My Drive/Master-Thesis-BridgeDamageDetection/Dataset/pdt_01-08/01/avt/01setup08.mat')\n",
        "Data_9=scipy.io.loadmat('/content/drive/My Drive/Master-Thesis-BridgeDamageDetection/Dataset/pdt_01-08/01/avt/01setup09.mat')"
      ],
      "metadata": {
        "id": "mdZxrZoqDuI0"
      },
      "execution_count": null,
      "outputs": []
    },
    {
      "cell_type": "code",
      "source": [
        "#second reference measurement, after Koppigen pier installation -> Ambient Vibration Test class 0 - SCENARIO 2 - NO DAMAGE\n",
        "Data_12=scipy.io.loadmat('/content/drive/My Drive/Master-Thesis-BridgeDamageDetection/Dataset/pdt_01-08/02/avt/02setup01.mat')\n",
        "Data_22=scipy.io.loadmat('/content/drive/My Drive/Master-Thesis-BridgeDamageDetection/Dataset/pdt_01-08/02/avt/02setup02.mat')\n",
        "Data_32=scipy.io.loadmat('/content/drive/My Drive/Master-Thesis-BridgeDamageDetection/Dataset/pdt_01-08/02/avt/02setup03.mat')\n",
        "Data_42=scipy.io.loadmat('/content/drive/My Drive/Master-Thesis-BridgeDamageDetection/Dataset/pdt_01-08/02/avt/02setup04.mat')\n",
        "Data_52=scipy.io.loadmat('/content/drive/My Drive/Master-Thesis-BridgeDamageDetection/Dataset/pdt_01-08/02/avt/02setup05.mat')\n",
        "Data_62=scipy.io.loadmat('/content/drive/My Drive/Master-Thesis-BridgeDamageDetection/Dataset/pdt_01-08/02/avt/02setup06.mat')\n",
        "Data_72=scipy.io.loadmat('/content/drive/My Drive/Master-Thesis-BridgeDamageDetection/Dataset/pdt_01-08/02/avt/02setup07.mat')\n",
        "Data_82=scipy.io.loadmat('/content/drive/My Drive/Master-Thesis-BridgeDamageDetection/Dataset/pdt_01-08/02/avt/02setup08.mat')\n",
        "Data_92=scipy.io.loadmat('/content/drive/My Drive/Master-Thesis-BridgeDamageDetection/Dataset/pdt_01-08/02/avt/02setup09.mat')"
      ],
      "metadata": {
        "id": "tekPtuc8Dy4O"
      },
      "execution_count": null,
      "outputs": []
    },
    {
      "cell_type": "code",
      "source": [
        "#Scenario: Settlement of fundation -> 20 mm Settlement , Ambient Vibration Test class 0 - SCENARIO 3 - REVERSIBLE DAMAGE\n",
        "Data_13=scipy.io.loadmat('/content/drive/My Drive/Master-Thesis-BridgeDamageDetection/Dataset/pdt_01-08/03/avt/03setup01.mat')\n",
        "Data_23=scipy.io.loadmat('/content/drive/My Drive/Master-Thesis-BridgeDamageDetection/Dataset/pdt_01-08/03/avt/03setup02.mat')\n",
        "Data_33=scipy.io.loadmat('/content/drive/My Drive/Master-Thesis-BridgeDamageDetection/Dataset/pdt_01-08/03/avt/03setup03.mat')\n",
        "Data_43=scipy.io.loadmat('/content/drive/My Drive/Master-Thesis-BridgeDamageDetection/Dataset/pdt_01-08/03/avt/03setup04.mat')\n",
        "Data_53=scipy.io.loadmat('/content/drive/My Drive/Master-Thesis-BridgeDamageDetection/Dataset/pdt_01-08/03/avt/03setup05.mat')\n",
        "Data_63=scipy.io.loadmat('/content/drive/My Drive/Master-Thesis-BridgeDamageDetection/Dataset/pdt_01-08/03/avt/03setup06.mat')\n",
        "Data_73=scipy.io.loadmat('/content/drive/My Drive/Master-Thesis-BridgeDamageDetection/Dataset/pdt_01-08/03/avt/03setup07.mat')\n",
        "Data_83=scipy.io.loadmat('/content/drive/My Drive/Master-Thesis-BridgeDamageDetection/Dataset/pdt_01-08/03/avt/03setup08.mat')\n",
        "Data_93=scipy.io.loadmat('/content/drive/My Drive/Master-Thesis-BridgeDamageDetection/Dataset/pdt_01-08/03/avt/03setup09.mat')"
      ],
      "metadata": {
        "id": "SMUKHTqQD03M"
      },
      "execution_count": null,
      "outputs": []
    },
    {
      "cell_type": "code",
      "source": [
        "#Scenario: Settlement of fundation -> 40 mm Settlement , Ambient Vibration Test class 1 - SCENARIO 4 - REVERSIBLE DAMAGE\n",
        "Data_14=scipy.io.loadmat('/content/drive/My Drive/Master-Thesis-BridgeDamageDetection/Dataset/pdt_01-08/04/avt/04setup01.mat')\n",
        "Data_24=scipy.io.loadmat('/content/drive/My Drive/Master-Thesis-BridgeDamageDetection/Dataset/pdt_01-08/04/avt/04setup02.mat')\n",
        "Data_34=scipy.io.loadmat('/content/drive/My Drive/Master-Thesis-BridgeDamageDetection/Dataset/pdt_01-08/04/avt/04setup03.mat')\n",
        "Data_44=scipy.io.loadmat('/content/drive/My Drive/Master-Thesis-BridgeDamageDetection/Dataset/pdt_01-08/04/avt/04setup04.mat')\n",
        "Data_54=scipy.io.loadmat('/content/drive/My Drive/Master-Thesis-BridgeDamageDetection/Dataset/pdt_01-08/04/avt/04setup05.mat')\n",
        "Data_64=scipy.io.loadmat('/content/drive/My Drive/Master-Thesis-BridgeDamageDetection/Dataset/pdt_01-08/04/avt/04setup06.mat')\n",
        "Data_74=scipy.io.loadmat('/content/drive/My Drive/Master-Thesis-BridgeDamageDetection/Dataset/pdt_01-08/04/avt/04setup07.mat')\n",
        "Data_84=scipy.io.loadmat('/content/drive/My Drive/Master-Thesis-BridgeDamageDetection/Dataset/pdt_01-08/04/avt/04setup08.mat')\n",
        "Data_94=scipy.io.loadmat('/content/drive/My Drive/Master-Thesis-BridgeDamageDetection/Dataset/pdt_01-08/04/avt/04setup09.mat')"
      ],
      "metadata": {
        "id": "ESd3G6XQD2Xa"
      },
      "execution_count": null,
      "outputs": []
    },
    {
      "cell_type": "code",
      "source": [
        "#Scenario: Settlement of fundation -> 80 mm Settlement , Ambient Vibration Test class 1 - SCENARIO 5 - REVERSIBLE DAMAGE\n",
        "Data_15=scipy.io.loadmat('/content/drive/My Drive/Master-Thesis-BridgeDamageDetection/Dataset/pdt_01-08/05/avt/05setup01.mat')\n",
        "Data_25=scipy.io.loadmat('/content/drive/My Drive/Master-Thesis-BridgeDamageDetection/Dataset/pdt_01-08/05/avt/05setup02.mat')\n",
        "Data_35=scipy.io.loadmat('/content/drive/My Drive/Master-Thesis-BridgeDamageDetection/Dataset/pdt_01-08/05/avt/05setup03.mat')\n",
        "Data_45=scipy.io.loadmat('/content/drive/My Drive/Master-Thesis-BridgeDamageDetection/Dataset/pdt_01-08/05/avt/05setup04.mat')\n",
        "Data_55=scipy.io.loadmat('/content/drive/My Drive/Master-Thesis-BridgeDamageDetection/Dataset/pdt_01-08/05/avt/05setup05.mat')\n",
        "Data_65=scipy.io.loadmat('/content/drive/My Drive/Master-Thesis-BridgeDamageDetection/Dataset/pdt_01-08/05/avt/05setup06.mat')\n",
        "Data_75=scipy.io.loadmat('/content/drive/My Drive/Master-Thesis-BridgeDamageDetection/Dataset/pdt_01-08/05/avt/05setup07.mat')\n",
        "Data_85=scipy.io.loadmat('/content/drive/My Drive/Master-Thesis-BridgeDamageDetection/Dataset/pdt_01-08/05/avt/05setup08.mat')\n",
        "Data_95=scipy.io.loadmat('/content/drive/My Drive/Master-Thesis-BridgeDamageDetection/Dataset/pdt_01-08/05/avt/05setup09.mat')"
      ],
      "metadata": {
        "id": "QBbUdAn1D41p"
      },
      "execution_count": null,
      "outputs": []
    },
    {
      "cell_type": "code",
      "source": [
        "#Scenario: Settlement of fundation -> 95 mm Settlement , Ambient Vibration Test class 1 - SCENARIO 6 - REVERSIBLE DAMAGE\n",
        "Data_16=scipy.io.loadmat('/content/drive/My Drive/Master-Thesis-BridgeDamageDetection/Dataset/pdt_01-08/06/avt/06setup01.mat')\n",
        "Data_26=scipy.io.loadmat('/content/drive/My Drive/Master-Thesis-BridgeDamageDetection/Dataset/pdt_01-08/06/avt/06setup02.mat')\n",
        "Data_36=scipy.io.loadmat('/content/drive/My Drive/Master-Thesis-BridgeDamageDetection/Dataset/pdt_01-08/06/avt/06setup03.mat')\n",
        "Data_46=scipy.io.loadmat('/content/drive/My Drive/Master-Thesis-BridgeDamageDetection/Dataset/pdt_01-08/06/avt/06setup04.mat')\n",
        "Data_56=scipy.io.loadmat('/content/drive/My Drive/Master-Thesis-BridgeDamageDetection/Dataset/pdt_01-08/06/avt/06setup05.mat')\n",
        "Data_66=scipy.io.loadmat('/content/drive/My Drive/Master-Thesis-BridgeDamageDetection/Dataset/pdt_01-08/06/avt/06setup06.mat')\n",
        "Data_76=scipy.io.loadmat('/content/drive/My Drive/Master-Thesis-BridgeDamageDetection/Dataset/pdt_01-08/06/avt/06setup07.mat')\n",
        "Data_86=scipy.io.loadmat('/content/drive/My Drive/Master-Thesis-BridgeDamageDetection/Dataset/pdt_01-08/06/avt/06setup08.mat')\n",
        "Data_96=scipy.io.loadmat('/content/drive/My Drive/Master-Thesis-BridgeDamageDetection/Dataset/pdt_01-08/06/avt/06setup09.mat')"
      ],
      "metadata": {
        "id": "5otzHMn9D8AU"
      },
      "execution_count": null,
      "outputs": []
    },
    {
      "cell_type": "code",
      "source": [
        "#Scenario: Tilt of fundation -> 95 Relative diff. 6mm at koppigen pier  , Ambient Vibration Test class 1 - SCENARIO 7 - REVERSIBLE DAMAGE\n",
        "Data_17=scipy.io.loadmat('/content/drive/My Drive/Master-Thesis-BridgeDamageDetection/Dataset/pdt_01-08/07/avt/07setup01.mat')\n",
        "Data_27=scipy.io.loadmat('/content/drive/My Drive/Master-Thesis-BridgeDamageDetection/Dataset/pdt_01-08/07/avt/07setup02.mat')\n",
        "Data_37=scipy.io.loadmat('/content/drive/My Drive/Master-Thesis-BridgeDamageDetection/Dataset/pdt_01-08/07/avt/07setup03.mat')\n",
        "Data_47=scipy.io.loadmat('/content/drive/My Drive/Master-Thesis-BridgeDamageDetection/Dataset/pdt_01-08/07/avt/07setup04.mat')\n",
        "Data_57=scipy.io.loadmat('/content/drive/My Drive/Master-Thesis-BridgeDamageDetection/Dataset/pdt_01-08/07/avt/07setup05.mat')\n",
        "Data_67=scipy.io.loadmat('/content/drive/My Drive/Master-Thesis-BridgeDamageDetection/Dataset/pdt_01-08/07/avt/07setup06.mat')\n",
        "Data_77=scipy.io.loadmat('/content/drive/My Drive/Master-Thesis-BridgeDamageDetection/Dataset/pdt_01-08/07/avt/07setup07.mat')\n",
        "Data_87=scipy.io.loadmat('/content/drive/My Drive/Master-Thesis-BridgeDamageDetection/Dataset/pdt_01-08/07/avt/07setup08.mat')\n",
        "Data_97=scipy.io.loadmat('/content/drive/My Drive/Master-Thesis-BridgeDamageDetection/Dataset/pdt_01-08/07/avt/07setup09.mat')"
      ],
      "metadata": {
        "id": "xQZ1gCBWD9gL"
      },
      "execution_count": null,
      "outputs": []
    },
    {
      "cell_type": "code",
      "source": [
        "#Scenario: Reference Measurements , Ambient Vibration Test class 0 - SCENARIO 8 - NO DAMAGE\n",
        "Data_18=scipy.io.loadmat('/content/drive/My Drive/Master-Thesis-BridgeDamageDetection/Dataset/pdt_01-08/08/avt/08setup01.mat')\n",
        "Data_28=scipy.io.loadmat('/content/drive/My Drive/Master-Thesis-BridgeDamageDetection/Dataset/pdt_01-08/08/avt/08setup02.mat')\n",
        "Data_38=scipy.io.loadmat('/content/drive/My Drive/Master-Thesis-BridgeDamageDetection/Dataset/pdt_01-08/08/avt/08setup03.mat')\n",
        "Data_48=scipy.io.loadmat('/content/drive/My Drive/Master-Thesis-BridgeDamageDetection/Dataset/pdt_01-08/08/avt/08setup04.mat')\n",
        "Data_58=scipy.io.loadmat('/content/drive/My Drive/Master-Thesis-BridgeDamageDetection/Dataset/pdt_01-08/08/avt/08setup05.mat')\n",
        "Data_68=scipy.io.loadmat('/content/drive/My Drive/Master-Thesis-BridgeDamageDetection/Dataset/pdt_01-08/08/avt/08setup06.mat')\n",
        "Data_78=scipy.io.loadmat('/content/drive/My Drive/Master-Thesis-BridgeDamageDetection/Dataset/pdt_01-08/08/avt/08setup07.mat')\n",
        "Data_88=scipy.io.loadmat('/content/drive/My Drive/Master-Thesis-BridgeDamageDetection/Dataset/pdt_01-08/08/avt/08setup08.mat')\n",
        "Data_98=scipy.io.loadmat('/content/drive/My Drive/Master-Thesis-BridgeDamageDetection/Dataset/pdt_01-08/08/avt/08setup09.mat')"
      ],
      "metadata": {
        "id": "d2sURxrAD-7z"
      },
      "execution_count": null,
      "outputs": []
    },
    {
      "cell_type": "code",
      "source": [
        "#Scenario: Spalling of concrete 12 M^2, Ambient Vibration Test class 2 - SCENARIO 9 - IRREVERSIBLE DAMAGE\n",
        "Data_19=scipy.io.loadmat('/content/drive/My Drive/Master-Thesis-BridgeDamageDetection/Dataset/pdt_09_17/09/avt/09setup01.mat')\n",
        "Data_29=scipy.io.loadmat('/content/drive/My Drive/Master-Thesis-BridgeDamageDetection/Dataset/pdt_09_17/09/avt/09setup02.mat')\n",
        "Data_39=scipy.io.loadmat('/content/drive/My Drive/Master-Thesis-BridgeDamageDetection/Dataset/pdt_09_17/09/avt/09setup03.mat')\n",
        "Data_49=scipy.io.loadmat('/content/drive/My Drive/Master-Thesis-BridgeDamageDetection/Dataset/pdt_09_17/09/avt/09setup04.mat')\n",
        "Data_59=scipy.io.loadmat('/content/drive/My Drive/Master-Thesis-BridgeDamageDetection/Dataset/pdt_09_17/09/avt/09setup05.mat')\n",
        "Data_69=scipy.io.loadmat('/content/drive/My Drive/Master-Thesis-BridgeDamageDetection/Dataset/pdt_09_17/09/avt/09setup06.mat')\n",
        "Data_79=scipy.io.loadmat('/content/drive/My Drive/Master-Thesis-BridgeDamageDetection/Dataset/pdt_09_17/09/avt/09setup07.mat')\n",
        "Data_89=scipy.io.loadmat('/content/drive/My Drive/Master-Thesis-BridgeDamageDetection/Dataset/pdt_09_17/09/avt/09setup08.mat')\n",
        "Data_99=scipy.io.loadmat('/content/drive/My Drive/Master-Thesis-BridgeDamageDetection/Dataset/pdt_09_17/09/avt/09setup09.mat')"
      ],
      "metadata": {
        "id": "HKtAejhbEAuI"
      },
      "execution_count": null,
      "outputs": []
    },
    {
      "cell_type": "code",
      "source": [
        "#Scenario: Spalling of concrete 24 M^2, Ambient Vibration Test class 2 - SCENARIO 10 - IRREVERSIBLE DAMAGE\n",
        "Data_110=scipy.io.loadmat('/content/drive/My Drive/Master-Thesis-BridgeDamageDetection/Dataset/pdt_09_17/10/avt/10setup01.mat')\n",
        "Data_210=scipy.io.loadmat('/content/drive/My Drive/Master-Thesis-BridgeDamageDetection/Dataset/pdt_09_17/10/avt/10setup02.mat')\n",
        "Data_310=scipy.io.loadmat('/content/drive/My Drive/Master-Thesis-BridgeDamageDetection/Dataset/pdt_09_17/10/avt/10setup03.mat')\n",
        "Data_410=scipy.io.loadmat('/content/drive/My Drive/Master-Thesis-BridgeDamageDetection/Dataset/pdt_09_17/10/avt/10setup04.mat')\n",
        "Data_510=scipy.io.loadmat('/content/drive/My Drive/Master-Thesis-BridgeDamageDetection/Dataset/pdt_09_17/10/avt/10setup05.mat')\n",
        "Data_610=scipy.io.loadmat('/content/drive/My Drive/Master-Thesis-BridgeDamageDetection/Dataset/pdt_09_17/10/avt/10setup06.mat')\n",
        "Data_710=scipy.io.loadmat('/content/drive/My Drive/Master-Thesis-BridgeDamageDetection/Dataset/pdt_09_17/10/avt/10setup07.mat')\n",
        "Data_810=scipy.io.loadmat('/content/drive/My Drive/Master-Thesis-BridgeDamageDetection/Dataset/pdt_09_17/10/avt/10setup08.mat')\n",
        "Data_910=scipy.io.loadmat('/content/drive/My Drive/Master-Thesis-BridgeDamageDetection/Dataset/pdt_09_17/10/avt/10setup09.mat')"
      ],
      "metadata": {
        "id": "7p8P6pGSEB8k"
      },
      "execution_count": null,
      "outputs": []
    },
    {
      "cell_type": "code",
      "source": [
        "#Scenario: LandSlide, Ambient Vibration Test class 2 - SCENARIO 11 - IRREVERSIBLE DAMAGE\n",
        "Data_111=scipy.io.loadmat('/content/drive/My Drive/Master-Thesis-BridgeDamageDetection/Dataset/pdt_09_17/11/avt/11setup01.mat')\n",
        "Data_211=scipy.io.loadmat('/content/drive/My Drive/Master-Thesis-BridgeDamageDetection/Dataset/pdt_09_17/11/avt/11setup02.mat')\n",
        "Data_311=scipy.io.loadmat('/content/drive/My Drive/Master-Thesis-BridgeDamageDetection/Dataset/pdt_09_17/11/avt/11setup03.mat')\n",
        "Data_411=scipy.io.loadmat('/content/drive/My Drive/Master-Thesis-BridgeDamageDetection/Dataset/pdt_09_17/11/avt/11setup04.mat')\n",
        "Data_511=scipy.io.loadmat('/content/drive/My Drive/Master-Thesis-BridgeDamageDetection/Dataset/pdt_09_17/11/avt/11setup05.mat')\n",
        "Data_611=scipy.io.loadmat('/content/drive/My Drive/Master-Thesis-BridgeDamageDetection/Dataset/pdt_09_17/11/avt/11setup06.mat')\n",
        "Data_711=scipy.io.loadmat('/content/drive/My Drive/Master-Thesis-BridgeDamageDetection/Dataset/pdt_09_17/11/avt/11setup07.mat')\n",
        "Data_811=scipy.io.loadmat('/content/drive/My Drive/Master-Thesis-BridgeDamageDetection/Dataset/pdt_09_17/11/avt/11setup08.mat')\n",
        "Data_911=scipy.io.loadmat('/content/drive/My Drive/Master-Thesis-BridgeDamageDetection/Dataset/pdt_09_17/11/avt/11setup09.mat')"
      ],
      "metadata": {
        "id": "gA4scj1UEDb8"
      },
      "execution_count": null,
      "outputs": []
    },
    {
      "cell_type": "code",
      "source": [
        "#Scenario: Failure of the concrete hinges abutment piers, Ambient Vibration Test class 2 - SCENARIO 12 - IRREVERSIBLE DAMAGE\n",
        "Data_112=scipy.io.loadmat('/content/drive/My Drive/Master-Thesis-BridgeDamageDetection/Dataset/pdt_09_17/12/avt/12setup01.mat')\n",
        "Data_212=scipy.io.loadmat('/content/drive/My Drive/Master-Thesis-BridgeDamageDetection/Dataset/pdt_09_17/12/avt/12setup02.mat')\n",
        "Data_312=scipy.io.loadmat('/content/drive/My Drive/Master-Thesis-BridgeDamageDetection/Dataset/pdt_09_17/12/avt/12setup03.mat')\n",
        "Data_412=scipy.io.loadmat('/content/drive/My Drive/Master-Thesis-BridgeDamageDetection/Dataset/pdt_09_17/12/avt/12setup04.mat')\n",
        "Data_512=scipy.io.loadmat('/content/drive/My Drive/Master-Thesis-BridgeDamageDetection/Dataset/pdt_09_17/12/avt/12setup05.mat')\n",
        "Data_612=scipy.io.loadmat('/content/drive/My Drive/Master-Thesis-BridgeDamageDetection/Dataset/pdt_09_17/12/avt/12setup06.mat')\n",
        "Data_712=scipy.io.loadmat('/content/drive/My Drive/Master-Thesis-BridgeDamageDetection/Dataset/pdt_09_17/12/avt/12setup07.mat')\n",
        "Data_812=scipy.io.loadmat('/content/drive/My Drive/Master-Thesis-BridgeDamageDetection/Dataset/pdt_09_17/12/avt/12setup08.mat')\n",
        "Data_912=scipy.io.loadmat('/content/drive/My Drive/Master-Thesis-BridgeDamageDetection/Dataset/pdt_09_17/12/avt/12setup09.mat')"
      ],
      "metadata": {
        "id": "g07Y4N_GEFmY"
      },
      "execution_count": null,
      "outputs": []
    },
    {
      "cell_type": "code",
      "source": [
        "#Scenario: Failure of abchor heads of post tensioning cable, Ambient Vibration Test class 2 - SCENARIO 14 -  IRREVERSIBLE DAMAGE\n",
        "Data_114=scipy.io.loadmat('/content/drive/My Drive/Master-Thesis-BridgeDamageDetection/Dataset/pdt_09_17/14/avt/14setup01.mat')\n",
        "Data_214=scipy.io.loadmat('/content/drive/My Drive/Master-Thesis-BridgeDamageDetection/Dataset/pdt_09_17/14/avt/14setup02.mat')\n",
        "Data_314=scipy.io.loadmat('/content/drive/My Drive/Master-Thesis-BridgeDamageDetection/Dataset/pdt_09_17/14/avt/14setup03.mat')\n",
        "Data_414=scipy.io.loadmat('/content/drive/My Drive/Master-Thesis-BridgeDamageDetection/Dataset/pdt_09_17/14/avt/14setup04.mat')\n",
        "Data_514=scipy.io.loadmat('/content/drive/My Drive/Master-Thesis-BridgeDamageDetection/Dataset/pdt_09_17/14/avt/14setup05.mat')\n",
        "Data_614=scipy.io.loadmat('/content/drive/My Drive/Master-Thesis-BridgeDamageDetection/Dataset/pdt_09_17/14/avt/14setup06.mat')\n",
        "Data_714=scipy.io.loadmat('/content/drive/My Drive/Master-Thesis-BridgeDamageDetection/Dataset/pdt_09_17/14/avt/14setup07.mat')\n",
        "Data_814=scipy.io.loadmat('/content/drive/My Drive/Master-Thesis-BridgeDamageDetection/Dataset/pdt_09_17/14/avt/14setup08.mat')\n",
        "Data_914=scipy.io.loadmat('/content/drive/My Drive/Master-Thesis-BridgeDamageDetection/Dataset/pdt_09_17/14/avt/14setup09.mat')"
      ],
      "metadata": {
        "id": "kqCnLabJEJLJ"
      },
      "execution_count": null,
      "outputs": []
    },
    {
      "cell_type": "code",
      "source": [
        "#Scenario: 4 Tensodns cut, Ambient Vibration Test class 2 - SCENARIO 16 - IRREVERSIBLE DAMAGE\n",
        "Data_116=scipy.io.loadmat('/content/drive/My Drive/Master-Thesis-BridgeDamageDetection/Dataset/pdt_09_17/16/avt/16setup01.mat')\n",
        "Data_216=scipy.io.loadmat('/content/drive/My Drive/Master-Thesis-BridgeDamageDetection/Dataset/pdt_09_17/16/avt/16setup02.mat')\n",
        "Data_316=scipy.io.loadmat('/content/drive/My Drive/Master-Thesis-BridgeDamageDetection/Dataset/pdt_09_17/16/avt/16setup03.mat')\n",
        "Data_416=scipy.io.loadmat('/content/drive/My Drive/Master-Thesis-BridgeDamageDetection/Dataset/pdt_09_17/16/avt/16setup04.mat')\n",
        "Data_516=scipy.io.loadmat('/content/drive/My Drive/Master-Thesis-BridgeDamageDetection/Dataset/pdt_09_17/16/avt/16setup05.mat')\n",
        "Data_616=scipy.io.loadmat('/content/drive/My Drive/Master-Thesis-BridgeDamageDetection/Dataset/pdt_09_17/16/avt/16setup06.mat')\n",
        "Data_716=scipy.io.loadmat('/content/drive/My Drive/Master-Thesis-BridgeDamageDetection/Dataset/pdt_09_17/16/avt/16setup07.mat')\n",
        "Data_816=scipy.io.loadmat('/content/drive/My Drive/Master-Thesis-BridgeDamageDetection/Dataset/pdt_09_17/16/avt/16setup08.mat')\n",
        "Data_916=scipy.io.loadmat('/content/drive/My Drive/Master-Thesis-BridgeDamageDetection/Dataset/pdt_09_17/16/avt/16setup09.mat')"
      ],
      "metadata": {
        "id": "kvoZ7NErEJ1Y"
      },
      "execution_count": null,
      "outputs": []
    },
    {
      "cell_type": "code",
      "source": [
        "#to obtain time series from all the setup: (CLASS 0 = UNDAMAGED)\n",
        "x1=tf.transpose(Data_18['data'])\n",
        "x2=tf.transpose(Data_28['data'])\n",
        "x3=tf.transpose(Data_38['data'])\n",
        "x4=tf.transpose(Data_48['data'])\n",
        "x5=tf.transpose(Data_58['data'])\n",
        "x6=tf.transpose(Data_68['data'])\n",
        "x7=tf.transpose(Data_78['data'])\n",
        "x8=tf.transpose(Data_88['data'])\n",
        "x9=tf.transpose(Data_98['data'])"
      ],
      "metadata": {
        "id": "fv23fFTfELie"
      },
      "execution_count": null,
      "outputs": []
    },
    {
      "cell_type": "code",
      "source": [
        "#array containing all the time series of the first class:\n",
        "x=tf.concat((x1,x2,x3,x4,x5,x6,x7,x8,x9),axis=0)\n",
        "#we have 291 time series for the first class"
      ],
      "metadata": {
        "id": "6KreovNYEOet"
      },
      "execution_count": null,
      "outputs": []
    },
    {
      "cell_type": "code",
      "source": [
        "plt.plot(x[0]);\n",
        "plt.gca().get_xaxis().set_major_formatter(\n",
        "    matplotlib.ticker.FuncFormatter(lambda x, p: format(int(x), ',')))\n",
        "\n",
        "plt.show()"
      ],
      "metadata": {
        "colab": {
          "base_uri": "https://localhost:8080/",
          "height": 430
        },
        "id": "E6o-0pJjHX_C",
        "outputId": "0b96b22b-2fbc-4b67-e69f-26c0f49b0e9f"
      },
      "execution_count": null,
      "outputs": [
        {
          "output_type": "display_data",
          "data": {
            "text/plain": [
              "<Figure size 640x480 with 1 Axes>"
            ],
            "image/png": "[encoded data removed]"
          },
          "metadata": {}
        }
      ]
    },
    {
      "cell_type": "code",
      "source": [
        "#create labels for the 0 class:\n",
        "y1=np.empty(x.shape[0])\n",
        "for i in range(0,x.shape[0]):\n",
        "  y1[i]=0\n",
        "print(y1.shape)"
      ],
      "metadata": {
        "colab": {
          "base_uri": "https://localhost:8080/"
        },
        "id": "0h6xlNZ-ETuG",
        "outputId": "c0109f08-74ff-4183-c651-47d17a504ef4"
      },
      "execution_count": null,
      "outputs": [
        {
          "output_type": "stream",
          "name": "stdout",
          "text": [
            "(291,)\n"
          ]
        }
      ]
    },
    {
      "cell_type": "code",
      "source": [
        "#to obtain time series from all the setup: (CLASS 1 )\n",
        "z1=tf.transpose(Data_13['data'])\n",
        "z2=tf.transpose(Data_23['data'])\n",
        "z3=tf.transpose(Data_33['data'])\n",
        "z4=tf.transpose(Data_43['data'])\n",
        "z5=tf.transpose(Data_53['data'])\n",
        "z6=tf.transpose(Data_63['data'])\n",
        "z7=tf.transpose(Data_73['data'])\n",
        "z8=tf.transpose(Data_83['data'])\n",
        "z9=tf.transpose(Data_93['data'])"
      ],
      "metadata": {
        "id": "NGW1A5P8EWHi"
      },
      "execution_count": null,
      "outputs": []
    },
    {
      "cell_type": "code",
      "source": [
        "#array containing all the time series of the 1 class:\n",
        "z=tf.concat((z2,z3,z4,z5,z6,z7,z8,z9),axis=0)\n",
        "#we have 291 time series for the first class\n",
        "#no z1 since is a different dimension and needs to be padded"
      ],
      "metadata": {
        "id": "_XIV32M3EX0C"
      },
      "execution_count": null,
      "outputs": []
    },
    {
      "cell_type": "code",
      "source": [
        "plt.plot(z[0]);\n",
        "plt.gca().get_xaxis().set_major_formatter(\n",
        "    matplotlib.ticker.FuncFormatter(lambda x, p: format(int(x), ',')))\n",
        "\n",
        "plt.show()"
      ],
      "metadata": {
        "colab": {
          "base_uri": "https://localhost:8080/",
          "height": 430
        },
        "id": "5u-OJKZzHnRE",
        "outputId": "9e827d94-daf8-43e0-9a6e-442ec981aa3c"
      },
      "execution_count": null,
      "outputs": [
        {
          "output_type": "display_data",
          "data": {
            "text/plain": [
              "<Figure size 640x480 with 1 Axes>"
            ],
            "image/png": "[encoded data removed]"
          },
          "metadata": {}
        }
      ]
    },
    {
      "cell_type": "code",
      "source": [
        "#create labels for the 1 class:\n",
        "y2=np.empty(z.shape[0])\n",
        "for i in range(0,z.shape[0]):\n",
        "  y2[i]=1\n",
        "print(y2.shape)"
      ],
      "metadata": {
        "colab": {
          "base_uri": "https://localhost:8080/"
        },
        "id": "DPsTx85IEa36",
        "outputId": "7e3dd074-6150-4dba-99d1-c0519685ed2b"
      },
      "execution_count": null,
      "outputs": [
        {
          "output_type": "stream",
          "name": "stdout",
          "text": [
            "(258,)\n"
          ]
        }
      ]
    },
    {
      "cell_type": "code",
      "source": [
        "#to obtain time series from all the setup: (CLASS 2 )\n",
        "v1=tf.transpose(Data_14['data'])\n",
        "v2=tf.transpose(Data_24['data'])\n",
        "v3=tf.transpose(Data_34['data'])\n",
        "v4=tf.transpose(Data_44['data'])\n",
        "v5=tf.transpose(Data_54['data'])\n",
        "v6=tf.transpose(Data_64['data'])\n",
        "v7=tf.transpose(Data_74['data'])\n",
        "v8=tf.transpose(Data_84['data'])\n",
        "v9=tf.transpose(Data_94['data'])"
      ],
      "metadata": {
        "id": "_KrZP-pdEe3w"
      },
      "execution_count": null,
      "outputs": []
    },
    {
      "cell_type": "code",
      "source": [
        "#array containing all the time series of the 2 class:\n",
        "v=tf.concat((v1,v2,v3,v4,v5,v6,v7,v8,v9),axis=0)\n",
        "#we have 291 time series for the first class"
      ],
      "metadata": {
        "id": "204LFC1PEg4_"
      },
      "execution_count": null,
      "outputs": []
    },
    {
      "cell_type": "code",
      "source": [
        "plt.plot(v[0]);\n",
        "plt.gca().get_xaxis().set_major_formatter(\n",
        "    matplotlib.ticker.FuncFormatter(lambda x, p: format(int(x), ',')))\n",
        "\n",
        "plt.show()"
      ],
      "metadata": {
        "colab": {
          "base_uri": "https://localhost:8080/",
          "height": 430
        },
        "id": "n5ENl5XKHpvL",
        "outputId": "305938a6-29c3-4f90-c6e2-2493b475eeff"
      },
      "execution_count": null,
      "outputs": [
        {
          "output_type": "display_data",
          "data": {
            "text/plain": [
              "<Figure size 640x480 with 1 Axes>"
            ],
            "image/png": "[encoded data removed]"
          },
          "metadata": {}
        }
      ]
    },
    {
      "cell_type": "code",
      "source": [
        "#create labels for the 2 class:\n",
        "y3=np.empty(v.shape[0])\n",
        "for i in range(0,v.shape[0]):\n",
        "  y3[i]=2\n",
        "print(y3.shape)"
      ],
      "metadata": {
        "colab": {
          "base_uri": "https://localhost:8080/"
        },
        "id": "UULMYwKdEjRM",
        "outputId": "1433b3e1-eeeb-4b10-8eec-d4aad32db6fa"
      },
      "execution_count": null,
      "outputs": [
        {
          "output_type": "stream",
          "name": "stdout",
          "text": [
            "(291,)\n"
          ]
        }
      ]
    },
    {
      "cell_type": "code",
      "source": [
        "#to obtain time series from all the setup: (CLASS 3 )\n",
        "s1=tf.transpose(Data_15['data'])\n",
        "s2=tf.transpose(Data_25['data'])\n",
        "s3=tf.transpose(Data_35['data'])\n",
        "s4=tf.transpose(Data_45['data'])\n",
        "s5=tf.transpose(Data_55['data'])\n",
        "s6=tf.transpose(Data_65['data'])\n",
        "s7=tf.transpose(Data_75['data'])\n",
        "s8=tf.transpose(Data_85['data'])\n",
        "s9=tf.transpose(Data_95['data'])"
      ],
      "metadata": {
        "id": "4S79g27gEk0p"
      },
      "execution_count": null,
      "outputs": []
    },
    {
      "cell_type": "code",
      "source": [
        "#array containing all the time series of the 3 class:\n",
        "s=tf.concat((s1,s2,s3,s4,s5,s6,s7,s8,s9),axis=0)\n",
        "#we have 291 time series for the first class"
      ],
      "metadata": {
        "id": "pSmjmMFuEpJR"
      },
      "execution_count": null,
      "outputs": []
    },
    {
      "cell_type": "code",
      "source": [
        "plt.plot(s[0]); plt.show()"
      ],
      "metadata": {
        "colab": {
          "base_uri": "https://localhost:8080/",
          "height": 265
        },
        "id": "jy6Ej-kqHsGQ",
        "outputId": "bc3d9a21-9ee2-4c6a-9c00-15bdb9f31746"
      },
      "execution_count": null,
      "outputs": [
        {
          "output_type": "display_data",
          "data": {
            "text/plain": [
              "<Figure size 432x288 with 1 Axes>"
            ],
            "image/png": "[encoded data removed]"
          },
          "metadata": {
            "needs_background": "light"
          }
        }
      ]
    },
    {
      "cell_type": "code",
      "source": [
        "#create labels for the 3 class:\n",
        "y4=np.empty(s.shape[0])\n",
        "for i in range(0,s.shape[0]):\n",
        "  y4[i]=3\n",
        "print(y4.shape)"
      ],
      "metadata": {
        "colab": {
          "base_uri": "https://localhost:8080/"
        },
        "id": "RLgih9QpEsLP",
        "outputId": "5ec15ab9-95bb-409f-d250-7e891201e9b2"
      },
      "execution_count": null,
      "outputs": [
        {
          "output_type": "stream",
          "name": "stdout",
          "text": [
            "(291,)\n"
          ]
        }
      ]
    },
    {
      "cell_type": "code",
      "source": [
        "#to obtain time series from all the setup: (CLASS 4 )\n",
        "d1=tf.transpose(Data_16['data'])\n",
        "d2=tf.transpose(Data_26['data'])\n",
        "d3=tf.transpose(Data_36['data'])\n",
        "d4=tf.transpose(Data_46['data'])\n",
        "d5=tf.transpose(Data_56['data'])\n",
        "d6=tf.transpose(Data_66['data'])\n",
        "d7=tf.transpose(Data_76['data'])\n",
        "d8=tf.transpose(Data_86['data'])\n",
        "d9=tf.transpose(Data_96['data'])"
      ],
      "metadata": {
        "id": "4lm0XMcfEvsl"
      },
      "execution_count": null,
      "outputs": []
    },
    {
      "cell_type": "code",
      "source": [
        "#array containing all the time series of the 3 class:\n",
        "d=tf.concat((d1,d2,d3,d4,d5,d6,d7,d8,d9),axis=0)\n",
        "#we have 291 time series for the first class"
      ],
      "metadata": {
        "id": "SbKQhoWkExaz"
      },
      "execution_count": null,
      "outputs": []
    },
    {
      "cell_type": "code",
      "source": [
        "plt.plot(d[0]); plt.show()"
      ],
      "metadata": {
        "colab": {
          "base_uri": "https://localhost:8080/",
          "height": 265
        },
        "id": "_8TlcjUvHu1U",
        "outputId": "26c6601c-ec2b-452b-9f68-8e09401649a0"
      },
      "execution_count": null,
      "outputs": [
        {
          "output_type": "display_data",
          "data": {
            "text/plain": [
              "<Figure size 432x288 with 1 Axes>"
            ],
            "image/png": "[encoded data removed]"
          },
          "metadata": {
            "needs_background": "light"
          }
        }
      ]
    },
    {
      "cell_type": "code",
      "source": [
        "#create labels for the 4 class:\n",
        "y5=np.empty(d.shape[0])\n",
        "for i in range(0,d.shape[0]):\n",
        "  y5[i]=4\n",
        "print(y5.shape)"
      ],
      "metadata": {
        "colab": {
          "base_uri": "https://localhost:8080/"
        },
        "id": "vc90GiG1E0jB",
        "outputId": "69f92189-ddc4-49dd-a2be-57858578081d"
      },
      "execution_count": null,
      "outputs": [
        {
          "output_type": "stream",
          "name": "stdout",
          "text": [
            "(291,)\n"
          ]
        }
      ]
    },
    {
      "cell_type": "code",
      "source": [
        "#create the full dataset with labels\n",
        "x_data=tf.concat((x,z,v,s,d),axis=0)\n",
        "y_data=tf.concat((y1,y2,y3,y4,y5),axis=0)"
      ],
      "metadata": {
        "id": "nAk9K0PNE5us"
      },
      "execution_count": null,
      "outputs": []
    },
    {
      "cell_type": "code",
      "source": [
        "#convert the dataset to numpy array\n",
        "x_data=np.array(x_data)\n",
        "y_data=np.array(y_data)"
      ],
      "metadata": {
        "id": "rutvNye9FInt"
      },
      "execution_count": null,
      "outputs": []
    },
    {
      "cell_type": "code",
      "source": [
        "print(x_data.shape)\n",
        "print(y_data.shape)"
      ],
      "metadata": {
        "colab": {
          "base_uri": "https://localhost:8080/"
        },
        "id": "gcNOrUhkFPIY",
        "outputId": "cf8079b2-deed-4b26-e2e7-be43c97db852"
      },
      "execution_count": null,
      "outputs": [
        {
          "output_type": "stream",
          "name": "stdout",
          "text": [
            "(1422, 65536)\n",
            "(1422,)\n"
          ]
        }
      ]
    },
    {
      "cell_type": "code",
      "source": [
        "#normalize the data\n",
        "x_data=tf.keras.utils.normalize(x_data)\n",
        "x_data=np.array(x_data)"
      ],
      "metadata": {
        "id": "jDxs4e_rFQpM"
      },
      "execution_count": null,
      "outputs": []
    },
    {
      "cell_type": "code",
      "source": [
        "#define the input dimension of our NN model\n",
        "ninput = x_data.shape[1]\n",
        "nsamples = x_data.shape[0]"
      ],
      "metadata": {
        "id": "S9ysrlukFToW"
      },
      "execution_count": null,
      "outputs": []
    },
    {
      "cell_type": "code",
      "source": [
        "#create train and test dataset\n",
        "X_train, X_test, y_train, y_test = train_test_split(x_data, y_data, test_size=0.333,\n",
        "                                                    random_state=14)"
      ],
      "metadata": {
        "id": "DJT5uSfeFieN"
      },
      "execution_count": null,
      "outputs": []
    },
    {
      "cell_type": "code",
      "source": [
        "print(X_train.shape)\n",
        "print(X_test.shape)"
      ],
      "metadata": {
        "colab": {
          "base_uri": "https://localhost:8080/"
        },
        "id": "gbWBl3dKFleE",
        "outputId": "40ef7354-63c4-4c20-8361-3b78de6a0be7"
      },
      "execution_count": null,
      "outputs": [
        {
          "output_type": "stream",
          "name": "stdout",
          "text": [
            "(948, 65536)\n",
            "(474, 65536)\n"
          ]
        }
      ]
    },
    {
      "cell_type": "code",
      "source": [
        "# define the callbacks for the model : early stopping very useful\n",
        "callback = tf.keras.callbacks.EarlyStopping(monitor='loss', patience=3)"
      ],
      "metadata": {
        "id": "LMHmx-FzFm1T"
      },
      "execution_count": null,
      "outputs": []
    },
    {
      "cell_type": "code",
      "source": [
        "#define the model for training and testing purpose( here MLP)\n",
        "model = keras.models.Sequential([\n",
        "  keras.layers.Dense(128, input_dim=ninput, activation='relu'),\n",
        "  keras.layers.Dense(64, activation='relu'),\n",
        "  keras.layers.Dense(32, activation='relu'),\n",
        "  #keras.layers.Dropout(0.2),\n",
        "  keras.layers.Dense(5, activation='softmax')\n",
        "])\n",
        "\n",
        "optimizers = [tf.keras.optimizers.SGD(learning_rate = 0.01, momentum = 1.0), 'adadelta', 'adam']\n",
        "\n",
        "model.compile(optimizer=optimizers[1],\n",
        "              loss='sparse_categorical_crossentropy',\n",
        "              metrics=['accuracy'])\n",
        "\n",
        "print(model.summary())"
      ],
      "metadata": {
        "colab": {
          "base_uri": "https://localhost:8080/"
        },
        "id": "FAwLi7b2FsgO",
        "outputId": "82766dec-98f1-418f-a83b-c7a65f04e60f"
      },
      "execution_count": null,
      "outputs": [
        {
          "output_type": "stream",
          "name": "stdout",
          "text": [
            "Model: \"sequential_3\"\n",
            "_________________________________________________________________\n",
            " Layer (type)                Output Shape              Param #   \n",
            "=================================================================\n",
            " dense_10 (Dense)            (None, 128)               8388736   \n",
            "                                                                 \n",
            " dense_11 (Dense)            (None, 64)                8256      \n",
            "                                                                 \n",
            " dense_12 (Dense)            (None, 32)                2080      \n",
            "                                                                 \n",
            " dense_13 (Dense)            (None, 5)                 165       \n",
            "                                                                 \n",
            "=================================================================\n",
            "Total params: 8,399,237\n",
            "Trainable params: 8,399,237\n",
            "Non-trainable params: 0\n",
            "_________________________________________________________________\n",
            "None\n"
          ]
        }
      ]
    },
    {
      "cell_type": "code",
      "source": [
        "#start training the model\n",
        "model.fit(X_train, y_train, batch_size=64,callbacks=[callback], epochs=200)"
      ],
      "metadata": {
        "id": "8kGKvIvuF0P9"
      },
      "execution_count": null,
      "outputs": []
    },
    {
      "cell_type": "code",
      "source": [
        "#get the predicted labels from the test set\n",
        "y_pred_sm = model.predict(X_test)\n",
        "y_pred = np.argmax(y_pred_sm, axis=1)"
      ],
      "metadata": {
        "id": "idhmVRi6F25a"
      },
      "execution_count": null,
      "outputs": []
    },
    {
      "cell_type": "code",
      "source": [
        "#evaluate the model\n",
        "acc = model.evaluate(X_test, y_test)\n",
        "print(\"Accuracy %.3f\" %acc[-1])"
      ],
      "metadata": {
        "id": "QQu7JOoiGAgt"
      },
      "execution_count": null,
      "outputs": []
    },
    {
      "cell_type": "code",
      "source": [
        "print(classification_report(y_test, y_pred, labels=None, target_names=['0','1','2','3','4'], digits=3))"
      ],
      "metadata": {
        "id": "POI_vhs7GF4w"
      },
      "execution_count": null,
      "outputs": []
    },
    {
      "cell_type": "code",
      "source": [
        "cm = confusion_matrix(y_test, y_pred, labels=None, sample_weight=None)\n",
        "print(cm)\n",
        "#plot_confusion_matrix(y_test, y_pred, classes=['0','1','2','3','4'], normalize=False)"
      ],
      "metadata": {
        "id": "b9af48BOGHk4"
      },
      "execution_count": null,
      "outputs": []
    }
  ]
}